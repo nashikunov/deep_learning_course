{
 "cells": [
  {
   "cell_type": "markdown",
   "metadata": {
    "colab_type": "text",
    "id": "gO2BchskQWoH"
   },
   "source": [
    "# Домашнее задание 3.\n",
    "\n",
    "`Keras` и сверточные нейронные сети."
   ]
  },
  {
   "cell_type": "markdown",
   "metadata": {},
   "source": [
    "# Шикунов Николай ИАД-2"
   ]
  },
  {
   "cell_type": "code",
   "execution_count": 1,
   "metadata": {
    "colab": {
     "base_uri": "https://localhost:8080/",
     "height": 114
    },
    "colab_type": "code",
    "id": "WmIuIaLEATMn",
    "outputId": "d8f74a98-68f8-4ee6-f47e-ffaab1865897"
   },
   "outputs": [
    {
     "data": {
      "text/html": [
       "<p style=\"color: red;\">\n",
       "The default version of TensorFlow in Colab will soon switch to TensorFlow 2.x.<br>\n",
       "We recommend you <a href=\"https://www.tensorflow.org/guide/migrate\" target=\"_blank\">upgrade</a> now \n",
       "or ensure your notebook will continue to use TensorFlow 1.x via the <code>%tensorflow_version 1.x</code> magic:\n",
       "<a href=\"https://colab.research.google.com/notebooks/tensorflow_version.ipynb\" target=\"_blank\">more info</a>.</p>\n"
      ],
      "text/plain": [
       "<IPython.core.display.HTML object>"
      ]
     },
     "metadata": {
      "tags": []
     },
     "output_type": "display_data"
    },
    {
     "name": "stdout",
     "output_type": "stream",
     "text": [
      "1.15.0\n",
      "2.2.5\n"
     ]
    },
    {
     "name": "stderr",
     "output_type": "stream",
     "text": [
      "Using TensorFlow backend.\n"
     ]
    }
   ],
   "source": [
    "import tensorflow as tf\n",
    "import keras\n",
    "from keras import backend as K\n",
    "import numpy as np\n",
    "%matplotlib inline\n",
    "import matplotlib.pyplot as plt\n",
    "print(tf.__version__)\n",
    "print(keras.__version__)"
   ]
  },
  {
   "cell_type": "code",
   "execution_count": null,
   "metadata": {
    "colab": {},
    "colab_type": "code",
    "id": "efsrp4vQfls5"
   },
   "outputs": [],
   "source": [
    "def reset_tf_session():\n",
    "    curr_session = tf.get_default_session()\n",
    "    if curr_session is not None:\n",
    "        curr_session.close()\n",
    "    K.clear_session()\n",
    "    config = tf.ConfigProto()\n",
    "    config.gpu_options.allow_growth = True\n",
    "    s = tf.InteractiveSession(config=config)\n",
    "    K.set_session(s)\n",
    "    return s"
   ]
  },
  {
   "cell_type": "markdown",
   "metadata": {
    "colab_type": "text",
    "id": "HE_SpMQMQm8Y"
   },
   "source": [
    "## Задание 1 — инициализация весов CNN (3 балла).\n",
    "\n",
    "В этом задании нужно будет исследовать, как выбор функции инициализации весов влияет на обучение CNN.\n"
   ]
  },
  {
   "cell_type": "markdown",
   "metadata": {
    "colab_type": "text",
    "id": "oIoAOXkJSwbs"
   },
   "source": [
    "Продолжим работать с датасетом CIFAR-10."
   ]
  },
  {
   "cell_type": "code",
   "execution_count": 3,
   "metadata": {
    "colab": {
     "base_uri": "https://localhost:8080/",
     "height": 85
    },
    "colab_type": "code",
    "id": "IsuA4kiHA4ff",
    "outputId": "487c9ed3-8d04-45a7-b8a3-8a1097d46599"
   },
   "outputs": [
    {
     "name": "stdout",
     "output_type": "stream",
     "text": [
      "Downloading data from https://www.cs.toronto.edu/~kriz/cifar-10-python.tar.gz\n",
      "170500096/170498071 [==============================] - 2s 0us/step\n",
      "Train samples: (50000, 32, 32, 3) (50000, 1)\n",
      "Test samples: (10000, 32, 32, 3) (10000, 1)\n"
     ]
    }
   ],
   "source": [
    "from keras.datasets import cifar10\n",
    "(x_train, y_train), (x_test, y_test) = cifar10.load_data()\n",
    "\n",
    "NUM_CLASSES = 10\n",
    "cifar10_classes = [\"airplane\", \"automobile\", \"bird\", \"cat\", \"deer\", \n",
    "                   \"dog\", \"frog\", \"horse\", \"ship\", \"truck\"]\n",
    "\n",
    "print(\"Train samples:\", x_train.shape, y_train.shape)\n",
    "print(\"Test samples:\", x_test.shape, y_test.shape)\n",
    "\n",
    "# нормализуем входные данные\n",
    "x_train = x_train / 255 - 0.5\n",
    "x_test = x_test / 255 - 0.5\n",
    "\n",
    "y_train = keras.utils.to_categorical(y_train, 10)\n",
    "y_test = keras.utils.to_categorical(y_test, 10)"
   ]
  },
  {
   "cell_type": "code",
   "execution_count": null,
   "metadata": {
    "colab": {},
    "colab_type": "code",
    "id": "xNl2e8LeftcC"
   },
   "outputs": [],
   "source": [
    "from keras.models import Sequential\n",
    "from keras.layers import Conv2D, MaxPooling2D, Flatten, Dense, Activation, Dropout\n",
    "from keras.layers.advanced_activations import LeakyReLU\n",
    "from keras.models import load_model"
   ]
  },
  {
   "cell_type": "markdown",
   "metadata": {
    "colab_type": "text",
    "id": "f2vQIUE3UeiE"
   },
   "source": [
    "Определим функцию `fit_model` с архитектурой архитектура CNN.\n",
    "\n",
    "Метод `model.fit` возвращает объект класса `keras.callbacks.History()` — это колбэк, который автоматически применяется ко всем моделям и логирует много чего полезного. В частности логируются значения функции потерь на каждой итерации."
   ]
  },
  {
   "cell_type": "markdown",
   "metadata": {
    "colab_type": "text",
    "id": "dDslR6vNZry8"
   },
   "source": [
    "**Задание 1.1** (0.5 балла) Добавьте в архитектуру модели инициализацию весов для тех слоев, где она необходима.\n"
   ]
  },
  {
   "cell_type": "code",
   "execution_count": null,
   "metadata": {
    "colab": {
     "base_uri": "https://localhost:8080/",
     "height": 34
    },
    "colab_type": "code",
    "id": "vcQ4lQK96nsj",
    "outputId": "b51d87af-90f7-4bf5-b66a-b8224e3ec2c5"
   },
   "outputs": [
    {
     "data": {
      "text/plain": [
       "True"
      ]
     },
     "execution_count": 7,
     "metadata": {
      "tags": []
     },
     "output_type": "execute_result"
    }
   ],
   "source": [
    "tf.test.is_gpu_available()"
   ]
  },
  {
   "cell_type": "code",
   "execution_count": null,
   "metadata": {
    "colab": {
     "base_uri": "https://localhost:8080/",
     "height": 34
    },
    "colab_type": "code",
    "id": "M5WHeAN36r4-",
    "outputId": "9d17d710-af03-4780-8be8-9df228041bbd"
   },
   "outputs": [
    {
     "data": {
      "text/plain": [
       "'/device:GPU:0'"
      ]
     },
     "execution_count": 8,
     "metadata": {
      "tags": []
     },
     "output_type": "execute_result"
    }
   ],
   "source": [
    "tf.test.gpu_device_name()"
   ]
  },
  {
   "cell_type": "code",
   "execution_count": null,
   "metadata": {
    "colab": {},
    "colab_type": "code",
    "id": "2_Lu7SO3CMid"
   },
   "outputs": [],
   "source": [
    "def fit_model(initializer='glorot_normal'):\n",
    "    s = reset_tf_session()  \n",
    "    INIT_LR = 5e-3\n",
    "    BATCH_SIZE = 32\n",
    "    EPOCHS = 10\n",
    "   \n",
    "    def lr_scheduler(epoch):\n",
    "        return INIT_LR * 0.9 ** epoch  \n",
    "\n",
    "    ### YOUR CODE HERE \n",
    "\n",
    "    kernel_initializer=initializer \n",
    "    if kernel_initializer == 'Zeros':\n",
    "        initializer = keras.initializers.Zeros()\n",
    "    elif 'Constant' in kernel_initializer:\n",
    "        constant = float(kernel_initializer.split('=')[1])\n",
    "        initializer = keras.initializers.Constant(value=constant)\n",
    "    elif kernel_initializer == 'RandomUniform':\n",
    "        initializer = keras.initializers.RandomUniform(minval=-0.05, maxval=0.05, seed=1568)\n",
    "    elif kernel_initializer == 'glorot_normal':\n",
    "        initializer = keras.initializers.glorot_normal(seed=1568)\n",
    "    elif kernel_initializer == 'lecun_uniform':\n",
    "        initializer = keras.initializers.lecun_normal(seed=1568)\n",
    "      \n",
    "    model = Sequential()\n",
    "    model.add(Conv2D(filters=16, padding='same', kernel_size=(3,3), input_shape=(32,32,3), kernel_initializer=initializer, bias_initializer=initializer))\n",
    "    model.add(LeakyReLU(0.1))\n",
    "    model.add(Conv2D(filters=64, padding='same', kernel_size=(3,3), kernel_initializer=initializer, bias_initializer=initializer))  \n",
    "    model.add(LeakyReLU(0.1))\n",
    "    model.add(MaxPooling2D(pool_size=(2,2), padding='same'))\n",
    "    model.add(Dropout(0.25))\n",
    "    model.add(Flatten())\n",
    "    model.add(Dense(40, kernel_initializer=initializer, bias_initializer=initializer))\n",
    "    model.add(LeakyReLU(0.1))\n",
    "    model.add(Dropout(0.5))    \n",
    "    model.add(Dense(10, kernel_initializer=initializer, bias_initializer=initializer))\n",
    "    model.add(Activation(\"softmax\"))\n",
    "\n",
    "\n",
    "    model.compile(\n",
    "        loss='categorical_crossentropy',\n",
    "        optimizer=keras.optimizers.adamax(lr=INIT_LR),\n",
    "        metrics=['accuracy']\n",
    "    )\n",
    "  \n",
    "    history = model.fit(\n",
    "        x_train, y_train,\n",
    "        batch_size=BATCH_SIZE,\n",
    "        epochs=EPOCHS,\n",
    "        callbacks=[keras.callbacks.LearningRateScheduler(lr_scheduler)],                   \n",
    "        shuffle=True,\n",
    "        verbose=0,\n",
    "        initial_epoch=0   \n",
    "    )\n",
    "    print(f'{kernel_initializer} DONE')\n",
    "\n",
    "    # Возвращаем объект класса keras.callbacks.History\n",
    "    return history"
   ]
  },
  {
   "cell_type": "markdown",
   "metadata": {
    "colab_type": "text",
    "id": "bYkZkghfT4uN"
   },
   "source": [
    "**Задание 1.2** (1.5 балла). Обучите модель с разными [функциями инициализации](https://keras.io/initializers/) весов:\n",
    "* `Zeros` — веса инициализируются нулями\n",
    "* `Constant=0.05` — веса инициализируются константой 0.05\n",
    "* `RandomUniform` — веса генерируются равномерно из отрезка [-0.05, 0.05]\n",
    "* `glorot_normal` — Xavier initializer из лекций\n",
    "* `lecun_uniform`\n",
    "\n",
    "Добавьте в список `losses` значения функции потерь для каждой функции инициализации, их можно достать из `History`\n",
    "\n"
   ]
  },
  {
   "cell_type": "code",
   "execution_count": null,
   "metadata": {
    "colab": {
     "base_uri": "https://localhost:8080/",
     "height": 102
    },
    "colab_type": "code",
    "id": "6l7oMsb44W6B",
    "outputId": "72ac2bc1-6e94-4f67-84e7-426ecb8c6b12"
   },
   "outputs": [
    {
     "name": "stdout",
     "output_type": "stream",
     "text": [
      "Zeros DONE\n",
      "Constant=0.05 DONE\n",
      "RandomUniform DONE\n",
      "glorot_normal DONE\n",
      "lecun_uniform DONE\n"
     ]
    }
   ],
   "source": [
    "history_zeros = fit_model(initializer='Zeros')\n",
    "histoty_constant = fit_model(initializer='Constant=0.05')\n",
    "history_randomUniform = fit_model(initializer='RandomUniform')\n",
    "history_glorotNormal = fit_model(initializer='glorot_normal')\n",
    "history_lecunUniform = fit_model(initializer='lecun_uniform')"
   ]
  },
  {
   "cell_type": "code",
   "execution_count": null,
   "metadata": {
    "colab": {},
    "colab_type": "code",
    "id": "ud499nqtDcz2"
   },
   "outputs": [],
   "source": [
    "history_inits = [\n",
    "                history_zeros, histoty_constant,  history_randomUniform, history_glorotNormal, history_lecunUniform\n",
    "]\n",
    "\n",
    "inits_names = [\n",
    "               'Zeros', 'Constant=0.05', 'RandomUniform', 'glorot_normal', 'lecun_uniform'\n",
    "]"
   ]
  },
  {
   "cell_type": "code",
   "execution_count": null,
   "metadata": {
    "colab": {},
    "colab_type": "code",
    "id": "dTieYmgUmQ8G"
   },
   "outputs": [],
   "source": [
    "losses = []\n",
    "for hist in history_inits:\n",
    "    losses.append(hist.history['loss'][-1])"
   ]
  },
  {
   "cell_type": "code",
   "execution_count": null,
   "metadata": {
    "colab": {
     "base_uri": "https://localhost:8080/",
     "height": 102
    },
    "colab_type": "code",
    "id": "_USya3YwGPu8",
    "outputId": "3cc6d384-8909-43aa-86fc-3e45a8233df5"
   },
   "outputs": [
    {
     "name": "stdout",
     "output_type": "stream",
     "text": [
      "initializer - Zeros  loss - 2.302735410461426\n",
      "initializer - Constant=0.05  loss - 1.2824432056045532\n",
      "initializer - RandomUniform  loss - 0.8707910774993897\n",
      "initializer - glorot_normal  loss - 0.8867105312156677\n",
      "initializer - lecun_uniform  loss - 0.839412213306427\n"
     ]
    }
   ],
   "source": [
    "for name, loss in zip(inits_names, losses):\n",
    "    print(f'initializer - {name}  loss - {loss}')"
   ]
  },
  {
   "cell_type": "markdown",
   "metadata": {
    "colab_type": "text",
    "id": "wsk8bCEPcOav"
   },
   "source": [
    "**Задание 1.3** (1 балла). Постройте графики зависимости функций потерь от номера итерации, подпишите их. Прокомментируйте результат."
   ]
  },
  {
   "cell_type": "code",
   "execution_count": null,
   "metadata": {
    "colab": {
     "base_uri": "https://localhost:8080/",
     "height": 621
    },
    "colab_type": "code",
    "id": "3yqBZIYEAPWZ",
    "outputId": "1ced40cd-8f0e-4815-fb17-bb131330048d"
   },
   "outputs": [
    {
     "data": {
      "image/png": "[encoded data removed]",
      "text/plain": [
       "<Figure size 1008x720 with 1 Axes>"
      ]
     },
     "metadata": {
      "tags": []
     },
     "output_type": "display_data"
    }
   ],
   "source": [
    "plt.figure(figsize=(14, 10))\n",
    "plt.title('Loss difference by initializer function')\n",
    "for name, history in zip(inits_names, history_inits):\n",
    "    plt.plot(np.arange(1, len(history.history['loss']) + 1), history.history['loss'], label=name)\n",
    "    plt.legend()\n",
    "plt.xlabel('Epoch')\n",
    "plt.ylabel('Loss')\n",
    "plt.show()"
   ]
  },
  {
   "cell_type": "markdown",
   "metadata": {},
   "source": [
    "Инициализация нулями обращает в ноль все наши градиенты. Инициализация константой одинаково изменяет наши веса (на первой стадии). Лучше всего получается с инициализацией lecun_uniform"
   ]
  },
  {
   "cell_type": "markdown",
   "metadata": {
    "colab_type": "text",
    "id": "nellCcusBAZ8"
   },
   "source": [
    "## Задание 2 — CNN для CIFAR-10 с сохранением весов модели (7 баллов)\n",
    "\n",
    "В этом задании мы модифицируем нейросеть с семинара, чтобы она достигала большего значения `accuracy` и научимся сохранять веса модели в файл во время обучения. Можно использовать только те же слои, которые использовались на семинаре: `Conv2D, MaxPooling2D,  LeakyReLU, Dropout, Flatten, Dense`."
   ]
  },
  {
   "cell_type": "markdown",
   "metadata": {
    "colab_type": "text",
    "id": "xuVF3c2qJwyx"
   },
   "source": [
    "**Задание 2.1** (4 балла). Подберите архитектуру модели так, чтобы значение `accuracy` на тестовой выборке было не менее 85."
   ]
  },
  {
   "cell_type": "code",
   "execution_count": null,
   "metadata": {
    "colab": {},
    "colab_type": "code",
    "id": "x5m_mblmLMO-"
   },
   "outputs": [],
   "source": [
    "initializer = keras.initializers.lecun_normal(seed=1568)"
   ]
  },
  {
   "cell_type": "code",
   "execution_count": null,
   "metadata": {
    "colab": {},
    "colab_type": "code",
    "id": "syKDJPUdCtoI"
   },
   "outputs": [],
   "source": [
    "def make_model():\n",
    "    model = Sequential()    \n",
    "    model.add(Conv2D(filters=96, padding='same', kernel_size=(1,3), input_shape=(32,32,3), kernel_initializer=initializer, bias_initializer=initializer))\n",
    "    model.add(LeakyReLU(0.1))\n",
    "    model.add(Conv2D(filters=96, padding='same', kernel_size=(3,1), kernel_initializer=initializer, bias_initializer=initializer))  \n",
    "    model.add(LeakyReLU(0.1))\n",
    "    model.add(Conv2D(filters=96, padding='same', kernel_size=(1,3), kernel_initializer=initializer, bias_initializer=initializer))\n",
    "    model.add(LeakyReLU(0.1))\n",
    "    model.add(Conv2D(filters=96, padding='same', kernel_size=(3,1), kernel_initializer=initializer, bias_initializer=initializer))  \n",
    "    model.add(LeakyReLU(0.1))\n",
    "    model.add(Conv2D(filters=96, padding='same', kernel_size=(1,3), kernel_initializer=initializer, bias_initializer=initializer))\n",
    "    model.add(LeakyReLU(0.1))\n",
    "    model.add(Conv2D(filters=96, padding='same', kernel_size=(3,1), kernel_initializer=initializer, bias_initializer=initializer))  \n",
    "    model.add(LeakyReLU(0.1))\n",
    "    model.add(MaxPooling2D(pool_size=(2,2), padding='same',  strides=(2, 2)))\n",
    "    model.add(Dropout(0.5))\n",
    "\n",
    "    model.add(Conv2D(filters=256, padding='same', kernel_size=(1,3), kernel_initializer=initializer, bias_initializer=initializer))\n",
    "    model.add(LeakyReLU(0.1))\n",
    "    model.add(Conv2D(filters=256, padding='same', kernel_size=(3,1), kernel_initializer=initializer, bias_initializer=initializer))  \n",
    "    model.add(LeakyReLU(0.1))\n",
    "    model.add(Conv2D(filters=256, padding='same', kernel_size=(1,3), kernel_initializer=initializer, bias_initializer=initializer))\n",
    "    model.add(LeakyReLU(0.1))\n",
    "    model.add(Conv2D(filters=256, padding='same', kernel_size=(3,1), kernel_initializer=initializer, bias_initializer=initializer))  \n",
    "    model.add(LeakyReLU(0.1))\n",
    "    model.add(MaxPooling2D(pool_size=(2,2), padding='same',  strides=(2, 2)))\n",
    "    model.add(Dropout(0.5))\n",
    "\n",
    "\n",
    "    model.add(Conv2D(filters=256, padding='same', kernel_size=(1,3), kernel_initializer=initializer, bias_initializer=initializer))\n",
    "    model.add(LeakyReLU(0.1))\n",
    "    model.add(Conv2D(filters=256, padding='same', kernel_size=(3,1), kernel_initializer=initializer, bias_initializer=initializer))  \n",
    "    model.add(LeakyReLU(0.1))\n",
    "    model.add(MaxPooling2D(pool_size=(2,2), padding='same',  strides=(2, 2)))\n",
    "    model.add(Dropout(0.5))\n",
    "\n",
    "    model.add(Flatten())\n",
    "    model.add(Dense(256, kernel_initializer=initializer, bias_initializer=initializer))\n",
    "    model.add(LeakyReLU(0.1))\n",
    "    model.add(Dropout(0.5))\n",
    "\n",
    "    model.add(Dense(10, kernel_initializer=initializer, bias_initializer=initializer))\n",
    "    model.add(Activation(\"softmax\"))\n",
    "\n",
    "    return model"
   ]
  },
  {
   "cell_type": "code",
   "execution_count": null,
   "metadata": {
    "colab": {
     "base_uri": "https://localhost:8080/",
     "height": 1000
    },
    "colab_type": "code",
    "id": "MoZifjkgFdcg",
    "outputId": "f06269c9-1358-4747-f1f2-1e156b54f2ed"
   },
   "outputs": [
    {
     "name": "stdout",
     "output_type": "stream",
     "text": [
      "Model: \"sequential_1\"\n",
      "_________________________________________________________________\n",
      "Layer (type)                 Output Shape              Param #   \n",
      "=================================================================\n",
      "conv2d_1 (Conv2D)            (None, 32, 32, 96)        960       \n",
      "_________________________________________________________________\n",
      "leaky_re_lu_1 (LeakyReLU)    (None, 32, 32, 96)        0         \n",
      "_________________________________________________________________\n",
      "conv2d_2 (Conv2D)            (None, 32, 32, 96)        27744     \n",
      "_________________________________________________________________\n",
      "leaky_re_lu_2 (LeakyReLU)    (None, 32, 32, 96)        0         \n",
      "_________________________________________________________________\n",
      "conv2d_3 (Conv2D)            (None, 32, 32, 96)        27744     \n",
      "_________________________________________________________________\n",
      "leaky_re_lu_3 (LeakyReLU)    (None, 32, 32, 96)        0         \n",
      "_________________________________________________________________\n",
      "conv2d_4 (Conv2D)            (None, 32, 32, 96)        27744     \n",
      "_________________________________________________________________\n",
      "leaky_re_lu_4 (LeakyReLU)    (None, 32, 32, 96)        0         \n",
      "_________________________________________________________________\n",
      "conv2d_5 (Conv2D)            (None, 32, 32, 96)        27744     \n",
      "_________________________________________________________________\n",
      "leaky_re_lu_5 (LeakyReLU)    (None, 32, 32, 96)        0         \n",
      "_________________________________________________________________\n",
      "conv2d_6 (Conv2D)            (None, 32, 32, 96)        27744     \n",
      "_________________________________________________________________\n",
      "leaky_re_lu_6 (LeakyReLU)    (None, 32, 32, 96)        0         \n",
      "_________________________________________________________________\n",
      "max_pooling2d_1 (MaxPooling2 (None, 16, 16, 96)        0         \n",
      "_________________________________________________________________\n",
      "dropout_1 (Dropout)          (None, 16, 16, 96)        0         \n",
      "_________________________________________________________________\n",
      "conv2d_7 (Conv2D)            (None, 16, 16, 256)       73984     \n",
      "_________________________________________________________________\n",
      "leaky_re_lu_7 (LeakyReLU)    (None, 16, 16, 256)       0         \n",
      "_________________________________________________________________\n",
      "conv2d_8 (Conv2D)            (None, 16, 16, 256)       196864    \n",
      "_________________________________________________________________\n",
      "leaky_re_lu_8 (LeakyReLU)    (None, 16, 16, 256)       0         \n",
      "_________________________________________________________________\n",
      "conv2d_9 (Conv2D)            (None, 16, 16, 256)       196864    \n",
      "_________________________________________________________________\n",
      "leaky_re_lu_9 (LeakyReLU)    (None, 16, 16, 256)       0         \n",
      "_________________________________________________________________\n",
      "conv2d_10 (Conv2D)           (None, 16, 16, 256)       196864    \n",
      "_________________________________________________________________\n",
      "leaky_re_lu_10 (LeakyReLU)   (None, 16, 16, 256)       0         \n",
      "_________________________________________________________________\n",
      "max_pooling2d_2 (MaxPooling2 (None, 8, 8, 256)         0         \n",
      "_________________________________________________________________\n",
      "dropout_2 (Dropout)          (None, 8, 8, 256)         0         \n",
      "_________________________________________________________________\n",
      "conv2d_11 (Conv2D)           (None, 8, 8, 256)         196864    \n",
      "_________________________________________________________________\n",
      "leaky_re_lu_11 (LeakyReLU)   (None, 8, 8, 256)         0         \n",
      "_________________________________________________________________\n",
      "conv2d_12 (Conv2D)           (None, 8, 8, 256)         196864    \n",
      "_________________________________________________________________\n",
      "leaky_re_lu_12 (LeakyReLU)   (None, 8, 8, 256)         0         \n",
      "_________________________________________________________________\n",
      "max_pooling2d_3 (MaxPooling2 (None, 4, 4, 256)         0         \n",
      "_________________________________________________________________\n",
      "dropout_3 (Dropout)          (None, 4, 4, 256)         0         \n",
      "_________________________________________________________________\n",
      "flatten_1 (Flatten)          (None, 4096)              0         \n",
      "_________________________________________________________________\n",
      "dense_1 (Dense)              (None, 256)               1048832   \n",
      "_________________________________________________________________\n",
      "leaky_re_lu_13 (LeakyReLU)   (None, 256)               0         \n",
      "_________________________________________________________________\n",
      "dropout_4 (Dropout)          (None, 256)               0         \n",
      "_________________________________________________________________\n",
      "dense_2 (Dense)              (None, 10)                2570      \n",
      "_________________________________________________________________\n",
      "activation_1 (Activation)    (None, 10)                0         \n",
      "=================================================================\n",
      "Total params: 2,249,386\n",
      "Trainable params: 2,249,386\n",
      "Non-trainable params: 0\n",
      "_________________________________________________________________\n"
     ]
    }
   ],
   "source": [
    "s = reset_tf_session()\n",
    "model = make_model()\n",
    "model.summary()"
   ]
  },
  {
   "cell_type": "code",
   "execution_count": null,
   "metadata": {
    "colab": {
     "base_uri": "https://localhost:8080/",
     "height": 697
    },
    "colab_type": "code",
    "id": "qpwv10CBNFaH",
    "outputId": "572553b2-7fa8-44c3-b0b2-89eb9689638a"
   },
   "outputs": [
    {
     "name": "stdout",
     "output_type": "stream",
     "text": [
      "Epoch 1/20\n",
      "50000/50000 [==============================] - 132s 3ms/step - loss: 1.8288 - acc: 0.3208\n",
      "Epoch 2/20\n",
      "50000/50000 [==============================] - 130s 3ms/step - loss: 1.3266 - acc: 0.5230\n",
      "Epoch 3/20\n",
      "50000/50000 [==============================] - 131s 3ms/step - loss: 1.1089 - acc: 0.6096\n",
      "Epoch 4/20\n",
      "50000/50000 [==============================] - 131s 3ms/step - loss: 0.9860 - acc: 0.6559\n",
      "Epoch 5/20\n",
      "50000/50000 [==============================] - 131s 3ms/step - loss: 0.9125 - acc: 0.6833\n",
      "Epoch 6/20\n",
      "50000/50000 [==============================] - 130s 3ms/step - loss: 0.8441 - acc: 0.7067\n",
      "Epoch 7/20\n",
      "50000/50000 [==============================] - 130s 3ms/step - loss: 0.7940 - acc: 0.7252\n",
      "Epoch 8/20\n",
      "50000/50000 [==============================] - 133s 3ms/step - loss: 0.7463 - acc: 0.7432\n",
      "Epoch 9/20\n",
      "50000/50000 [==============================] - 131s 3ms/step - loss: 0.7010 - acc: 0.7579\n",
      "Epoch 10/20\n",
      "50000/50000 [==============================] - 131s 3ms/step - loss: 0.6612 - acc: 0.7705\n",
      "Epoch 11/20\n",
      "50000/50000 [==============================] - 132s 3ms/step - loss: 0.6209 - acc: 0.7843\n",
      "Epoch 12/20\n",
      "50000/50000 [==============================] - 132s 3ms/step - loss: 0.5949 - acc: 0.7953\n",
      "Epoch 13/20\n",
      "50000/50000 [==============================] - 132s 3ms/step - loss: 0.5532 - acc: 0.8092\n",
      "Epoch 14/20\n",
      "50000/50000 [==============================] - 132s 3ms/step - loss: 0.5287 - acc: 0.8166\n",
      "Epoch 15/20\n",
      "50000/50000 [==============================] - 132s 3ms/step - loss: 0.4985 - acc: 0.8273\n",
      "Epoch 16/20\n",
      "50000/50000 [==============================] - 132s 3ms/step - loss: 0.4808 - acc: 0.8345\n",
      "Epoch 17/20\n",
      "50000/50000 [==============================] - 132s 3ms/step - loss: 0.4550 - acc: 0.8424\n",
      "Epoch 18/20\n",
      "50000/50000 [==============================] - 132s 3ms/step - loss: 0.4375 - acc: 0.8495\n",
      "Epoch 19/20\n",
      "50000/50000 [==============================] - 131s 3ms/step - loss: 0.4181 - acc: 0.8540\n",
      "Epoch 20/20\n",
      "50000/50000 [==============================] - 131s 3ms/step - loss: 0.3975 - acc: 0.8600\n"
     ]
    }
   ],
   "source": [
    "INIT_LR = 5e-3\n",
    "BATCH_SIZE = 32\n",
    "EPOCHS = 20\n",
    "   \n",
    "def lr_scheduler(epoch):\n",
    "    return INIT_LR * 0.9 ** epoch  \n",
    "\n",
    "model.compile(\n",
    "        loss='categorical_crossentropy',\n",
    "        optimizer=keras.optimizers.adamax(lr=INIT_LR),\n",
    "        metrics=['accuracy']\n",
    "    )\n",
    "  \n",
    "history = model.fit(\n",
    "    x_train, y_train,\n",
    "    batch_size=BATCH_SIZE,\n",
    "    epochs=EPOCHS,\n",
    "    callbacks=[keras.callbacks.LearningRateScheduler(lr_scheduler)],                   \n",
    "    shuffle=True,\n",
    "    verbose=1,\n",
    "    initial_epoch=0   \n",
    ")"
   ]
  },
  {
   "cell_type": "markdown",
   "metadata": {
    "colab_type": "text",
    "id": "JJLpZQhJGBqL"
   },
   "source": [
    "**Задание 2.2** (2 балла). Реализуйте колбэк, который сохраняет модель в `.hdf5` файл и печатает имя файла, в который была сохранена модель. Используйте функцию `model_save`. Строка с именем файла имеет вид `<name>_{0:02d}.hdf5`, отформатируйте ее так, чтобы в имени строки фигурировал номер эпохи."
   ]
  },
  {
   "cell_type": "code",
   "execution_count": null,
   "metadata": {
    "colab": {},
    "colab_type": "code",
    "id": "xYjUeuDXGBII"
   },
   "outputs": [],
   "source": [
    "from keras.models import save_model, load_model\n",
    "\n",
    "class ModelSaveCallback(keras.callbacks.Callback):\n",
    "\n",
    "    def __init__(self, file_name):\n",
    "        super(ModelSaveCallback, self).__init__()\n",
    "        self.file_name = file_name\n",
    "        self.epoch_made = 0\n",
    "\n",
    "    def on_epoch_end(self, epoch, logs=None):\n",
    "        self.epoch_made += 1\n",
    "        self.model.save(self.file_name.format(epoch + 1), overwrite=True)\n",
    "        print(f\"saved {self.file_name.format(epoch + 1)}\")"
   ]
  },
  {
   "cell_type": "markdown",
   "metadata": {
    "colab_type": "text",
    "id": "Svrwkh8ALpHa"
   },
   "source": [
    "**Задание 2.3** (1 балл). Реализуйте функцию, которая с помощью `load_model` будет загружать модель из файла."
   ]
  },
  {
   "cell_type": "code",
   "execution_count": null,
   "metadata": {
    "colab": {},
    "colab_type": "code",
    "id": "fVD0P5V7M00C"
   },
   "outputs": [],
   "source": [
    "def load_from_file(model_filename, last_epoch):\n",
    "    return(load_model(model_filename.format(last_epoch)))"
   ]
  },
  {
   "cell_type": "markdown",
   "metadata": {
    "colab_type": "text",
    "id": "9CnsEq3pQ8e-"
   },
   "source": [
    "### Чтобы показать работу колбэка и функции загрузки, я взял изначальную архитектуру из первого номера (для скорости)"
   ]
  },
  {
   "cell_type": "code",
   "execution_count": null,
   "metadata": {
    "colab": {},
    "colab_type": "code",
    "id": "r5_zjtHBJL-W"
   },
   "outputs": [],
   "source": [
    "def make_model():\n",
    "    initializer = keras.initializers.lecun_normal(seed=1568)\n",
    "    model = Sequential()\n",
    "    model.add(Conv2D(filters=16, padding='same', kernel_size=(3,3), input_shape=(32,32,3), kernel_initializer=initializer, bias_initializer=initializer))\n",
    "    model.add(LeakyReLU(0.1))\n",
    "    model.add(Conv2D(filters=64, padding='same', kernel_size=(3,3), kernel_initializer=initializer, bias_initializer=initializer))  \n",
    "    model.add(LeakyReLU(0.1))\n",
    "    model.add(MaxPooling2D(pool_size=(2,2), padding='same'))\n",
    "    model.add(Dropout(0.25))\n",
    "    model.add(Flatten())\n",
    "    model.add(Dense(40, kernel_initializer=initializer, bias_initializer=initializer))\n",
    "    model.add(LeakyReLU(0.1))\n",
    "    model.add(Dropout(0.5))    \n",
    "    model.add(Dense(10, kernel_initializer=initializer, bias_initializer=initializer))\n",
    "    model.add(Activation(\"softmax\"))\n",
    "\n",
    "    return model"
   ]
  },
  {
   "cell_type": "code",
   "execution_count": 8,
   "metadata": {
    "colab": {
     "base_uri": "https://localhost:8080/",
     "height": 360
    },
    "colab_type": "code",
    "id": "y6gW3YbUQOdl",
    "outputId": "305fa93b-6a5b-41c6-dd50-3616bb27ea1f"
   },
   "outputs": [
    {
     "name": "stdout",
     "output_type": "stream",
     "text": [
      "WARNING:tensorflow:From /usr/local/lib/python3.6/dist-packages/keras/backend/tensorflow_backend.py:107: The name tf.reset_default_graph is deprecated. Please use tf.compat.v1.reset_default_graph instead.\n",
      "\n",
      "WARNING:tensorflow:From /usr/local/lib/python3.6/dist-packages/keras/backend/tensorflow_backend.py:111: The name tf.placeholder_with_default is deprecated. Please use tf.compat.v1.placeholder_with_default instead.\n",
      "\n",
      "WARNING:tensorflow:From /usr/local/lib/python3.6/dist-packages/keras/backend/tensorflow_backend.py:66: The name tf.get_default_graph is deprecated. Please use tf.compat.v1.get_default_graph instead.\n",
      "\n",
      "WARNING:tensorflow:From /usr/local/lib/python3.6/dist-packages/keras/backend/tensorflow_backend.py:541: The name tf.placeholder is deprecated. Please use tf.compat.v1.placeholder instead.\n",
      "\n",
      "WARNING:tensorflow:From /usr/local/lib/python3.6/dist-packages/keras/backend/tensorflow_backend.py:4479: The name tf.truncated_normal is deprecated. Please use tf.random.truncated_normal instead.\n",
      "\n",
      "WARNING:tensorflow:From /usr/local/lib/python3.6/dist-packages/keras/backend/tensorflow_backend.py:4267: The name tf.nn.max_pool is deprecated. Please use tf.nn.max_pool2d instead.\n",
      "\n",
      "WARNING:tensorflow:From /usr/local/lib/python3.6/dist-packages/keras/backend/tensorflow_backend.py:3733: calling dropout (from tensorflow.python.ops.nn_ops) with keep_prob is deprecated and will be removed in a future version.\n",
      "Instructions for updating:\n",
      "Please use `rate` instead of `keep_prob`. Rate should be set to `rate = 1 - keep_prob`.\n",
      "WARNING:tensorflow:From /usr/local/lib/python3.6/dist-packages/keras/optimizers.py:793: The name tf.train.Optimizer is deprecated. Please use tf.compat.v1.train.Optimizer instead.\n",
      "\n",
      "WARNING:tensorflow:From /usr/local/lib/python3.6/dist-packages/keras/backend/tensorflow_backend.py:3576: The name tf.log is deprecated. Please use tf.math.log instead.\n",
      "\n"
     ]
    }
   ],
   "source": [
    "INIT_LR = 5e-3\n",
    "BATCH_SIZE = 32\n",
    "EPOCHS = 5\n",
    "\n",
    "model_filename = 'weights_{0:02d}.hdf5'\n",
    "\n",
    "s = reset_tf_session()\n",
    "\n",
    "model = make_model()\n",
    "\n",
    "model.compile(\n",
    "    loss='categorical_crossentropy',\n",
    "    optimizer=keras.optimizers.adamax(lr=INIT_LR),\n",
    "    metrics=['accuracy']\n",
    ")\n",
    "\n",
    "def lr_scheduler(epoch):\n",
    "    return INIT_LR * 0.9 ** epoch "
   ]
  },
  {
   "cell_type": "code",
   "execution_count": 10,
   "metadata": {
    "colab": {
     "base_uri": "https://localhost:8080/",
     "height": 289
    },
    "colab_type": "code",
    "id": "zOLb6flQFjCw",
    "outputId": "e5a159ba-f44c-41a5-c0f7-ad4eab94b6e6"
   },
   "outputs": [
    {
     "name": "stdout",
     "output_type": "stream",
     "text": [
      "Train on 50000 samples, validate on 10000 samples\n",
      "Epoch 1/5\n",
      "50000/50000 [==============================] - 24s 484us/step - loss: 1.6267 - acc: 0.4114 - val_loss: 1.2567 - val_acc: 0.5459\n",
      "saved weights_01.hdf5\n",
      "Epoch 2/5\n",
      "50000/50000 [==============================] - 23s 468us/step - loss: 1.3136 - acc: 0.5329 - val_loss: 1.1396 - val_acc: 0.6038\n",
      "saved weights_02.hdf5\n",
      "Epoch 3/5\n",
      "50000/50000 [==============================] - 23s 457us/step - loss: 1.1715 - acc: 0.5837 - val_loss: 1.0521 - val_acc: 0.6336\n",
      "saved weights_03.hdf5\n",
      "Epoch 4/5\n",
      "50000/50000 [==============================] - 23s 460us/step - loss: 1.0907 - acc: 0.6124 - val_loss: 1.0150 - val_acc: 0.6554\n",
      "saved weights_04.hdf5\n",
      "Epoch 5/5\n",
      "50000/50000 [==============================] - 23s 458us/step - loss: 1.0309 - acc: 0.6342 - val_loss: 0.9918 - val_acc: 0.6634\n",
      "saved weights_05.hdf5\n"
     ]
    }
   ],
   "source": [
    "history = model.fit(\n",
    "    x_train, y_train,\n",
    "    batch_size=BATCH_SIZE,\n",
    "    epochs=EPOCHS,\n",
    "    callbacks=[keras.callbacks.LearningRateScheduler(lr_scheduler), \n",
    "               ModelSaveCallback(model_filename)\n",
    "              ],\n",
    "    validation_data=(x_test, y_test),\n",
    "    shuffle=True,\n",
    "    verbose=1,\n",
    "    initial_epoch=0    \n",
    ")"
   ]
  },
  {
   "cell_type": "code",
   "execution_count": null,
   "metadata": {
    "colab": {},
    "colab_type": "code",
    "id": "b8u4kpWISIUR"
   },
   "outputs": [],
   "source": [
    "model = load_from_file(model_filename, 5)"
   ]
  },
  {
   "cell_type": "code",
   "execution_count": 12,
   "metadata": {
    "colab": {
     "base_uri": "https://localhost:8080/",
     "height": 289
    },
    "colab_type": "code",
    "id": "T-k2i9n5JSlK",
    "outputId": "34793447-2d4f-443c-9ad0-de46872e0059"
   },
   "outputs": [
    {
     "name": "stdout",
     "output_type": "stream",
     "text": [
      "Train on 50000 samples, validate on 10000 samples\n",
      "Epoch 6/10\n",
      "50000/50000 [==============================] - 23s 463us/step - loss: 0.9810 - acc: 0.6537 - val_loss: 0.9409 - val_acc: 0.6719\n",
      "saved weights_06.hdf5\n",
      "Epoch 7/10\n",
      "50000/50000 [==============================] - 23s 460us/step - loss: 0.9328 - acc: 0.6684 - val_loss: 0.9299 - val_acc: 0.6761\n",
      "saved weights_07.hdf5\n",
      "Epoch 8/10\n",
      "50000/50000 [==============================] - 22s 446us/step - loss: 0.8893 - acc: 0.6836 - val_loss: 0.9274 - val_acc: 0.6845\n",
      "saved weights_08.hdf5\n",
      "Epoch 9/10\n",
      "50000/50000 [==============================] - 22s 443us/step - loss: 0.8606 - acc: 0.6927 - val_loss: 0.9293 - val_acc: 0.6783\n",
      "saved weights_09.hdf5\n",
      "Epoch 10/10\n",
      "50000/50000 [==============================] - 22s 442us/step - loss: 0.8265 - acc: 0.7030 - val_loss: 0.9113 - val_acc: 0.6858\n",
      "saved weights_10.hdf5\n"
     ]
    }
   ],
   "source": [
    "INIT_LR = 5e-3\n",
    "BATCH_SIZE = 32\n",
    "EPOCHS = 10\n",
    "\n",
    "model_filename = 'weights_{0:02d}.hdf5'\n",
    "\n",
    "history = model.fit(\n",
    "    x_train, y_train,\n",
    "    batch_size=BATCH_SIZE,\n",
    "    epochs=EPOCHS,\n",
    "    callbacks=[keras.callbacks.LearningRateScheduler(lr_scheduler), \n",
    "               ModelSaveCallback(model_filename)\n",
    "              ],\n",
    "    validation_data=(x_test, y_test),\n",
    "    shuffle=True,\n",
    "    verbose=1,\n",
    "    initial_epoch=5\n",
    ")\n",
    "  "
   ]
  }
 ],
 "metadata": {
  "accelerator": "GPU",
  "colab": {
   "collapsed_sections": [],
   "name": "hw3.ipynb",
   "provenance": []
  },
  "kernelspec": {
   "display_name": "Python 3",
   "language": "python",
   "name": "python3"
  },
  "language_info": {
   "codemirror_mode": {
    "name": "ipython",
    "version": 3
   },
   "file_extension": ".py",
   "mimetype": "text/x-python",
   "name": "python",
   "nbconvert_exporter": "python",
   "pygments_lexer": "ipython3",
   "version": "3.7.3"
  }
 },
 "nbformat": 4,
 "nbformat_minor": 4
}
