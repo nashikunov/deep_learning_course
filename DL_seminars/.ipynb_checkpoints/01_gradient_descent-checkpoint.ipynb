{
  "nbformat": 4,
  "nbformat_minor": 0,
  "metadata": {
    "anaconda-cloud": {},
    "kernelspec": {
      "name": "python3",
      "display_name": "Python 3"
    },
    "language_info": {
      "codemirror_mode": {
        "name": "ipython",
        "version": 3
      },
      "file_extension": ".py",
      "mimetype": "text/x-python",
      "name": "python",
      "nbconvert_exporter": "python",
      "pygments_lexer": "ipython3",
      "version": "3.7.3"
    },
    "colab": {
      "name": "01 gradient_descent (2).ipynb",
      "version": "0.3.2",
      "provenance": []
    },
    "accelerator": "GPU"
  },
  "cells": [
    {
      "cell_type": "code",
      "metadata": {
        "id": "YLZL63HZgvgT",
        "colab_type": "code",
        "colab": {}
      },
      "source": [
        "import numpy as np\n",
        "import matplotlib.pyplot as plt\n",
        "%matplotlib inline"
      ],
      "execution_count": 0,
      "outputs": []
    },
    {
      "cell_type": "markdown",
      "metadata": {
        "id": "R-1wb9Rkgvgd",
        "colab_type": "text"
      },
      "source": [
        "## Методы оптимизации\n",
        "\n",
        "Как было показано на лекции, большинство методов машинного обучения сводятся к поиску параметров, которые минимизируют ошибку на тренировочной выборке:\n",
        "$$\n",
        "\\min_{w} L(f(x, w), y)\n",
        "$$\n",
        "Здесь:\n",
        "\n",
        "* $L$ — функция потерь\n",
        "* $w$ — настраиваемые веса алгоритма\n",
        "* $y$ — вектор ответов\n",
        "* $x$ — вектор значений\n",
        "* $f$ — функция, принимающая вектор в качестве аргумента и выдающая числовое значение.\n",
        "\n",
        "\n",
        "\n",
        "В более общем виде задачу можно записать так:\n",
        "$$\n",
        "\\min_{x} f(x)\n",
        "$$\n",
        "Здесь:\n",
        "* $x$ — вектор значений\n",
        "* $f$ — функция, принимающая вектор в качестве аргумента и выдающая числовое значение.\n",
        "\n",
        "На семинаре рассмотрим подробнее методы минимизации функции, которые рассматривались на лекции."
      ]
    },
    {
      "cell_type": "markdown",
      "metadata": {
        "id": "c--eC-W8gvgf",
        "colab_type": "text"
      },
      "source": [
        "## Градиентный спуск\n",
        "\n",
        "Для оптимизации возьмем простую функцию $f(x) = x^3 - 2x^2 + 2$"
      ]
    },
    {
      "cell_type": "code",
      "metadata": {
        "id": "sHqY5bo2gvgg",
        "colab_type": "code",
        "outputId": "36801c1b-305f-43dc-fe59-81226466fa79",
        "colab": {
          "base_uri": "https://localhost:8080/",
          "height": 269
        }
      },
      "source": [
        "f = lambda x: x ** 3 - 2*x ** 2 + 2\n",
        "df = lambda x: 3 * x ** 2 - 4 * x # производная\n",
        "x = np.linspace(-1, 2.5, 1000)\n",
        "plt.plot(x, f(x))\n",
        "plt.xlim([-1, 2.5])\n",
        "plt.ylim([0, 3])\n",
        "plt.show()"
      ],
      "execution_count": 0,
      "outputs": [
        {
          "output_type": "display_data",
          "data": {
            "image/png": "[encoded data removed]",
            "text/plain": [
              "<Figure size 432x288 with 1 Axes>"
            ]
          },
          "metadata": {
            "tags": []
          }
        }
      ]
    },
    {
      "cell_type": "markdown",
      "metadata": {
        "id": "5q1EPngEgvgs",
        "colab_type": "text"
      },
      "source": [
        "И определим функцию, которая будет оптимизировать функцию $f(x)$ градиентным спуском с заданным постоянным шагом (он же learning rate, темп обучения)."
      ]
    },
    {
      "cell_type": "code",
      "metadata": {
        "id": "_tpj5sAVgvgt",
        "colab_type": "code",
        "colab": {}
      },
      "source": [
        "def optimize_and_plot_steps(learning_rate, x_new=2, compute_learning_rate=None):\n",
        "    x_old = 0\n",
        "    # x_new — точка старта\n",
        "    eps = 0.0001\n",
        "    x_list, y_list = [x_new], [f(x_new)] # инициализируем список координат и значений функций при итерации\n",
        "    \n",
        "    # спускаемся, пока разница между координатами не достигла требуемой точности\n",
        "    i = 0\n",
        "    while abs(x_new - x_old) > eps:\n",
        "        # обновляем значение темпа обучения, если нам задана функция для этого\n",
        "        if compute_learning_rate is not None:\n",
        "            learning_rate = compute_learning_rate(i, learning_rate)\n",
        "            \n",
        "        x_old = x_new\n",
        "        # считаем направление спуска\n",
        "        # делаем шаг\n",
        "        # Ваш код здесь!\n",
        "        x_new = x_old - learning_rate * df(x_old)\n",
        "        # запоминаем очередной шаг минимизации\n",
        "        x_list.append(x_new)\n",
        "        y_list.append(f(x_new))\n",
        "        i += 1\n",
        "        \n",
        "    print(\"Найденный локальный минимум:\", x_new)\n",
        "    print(\"Количество шагов:\", len(x_list))\n",
        "    \n",
        "    plt.figure(figsize=[10,3])\n",
        "    \n",
        "    plt.subplot(1,2,1)\n",
        "    plt.scatter(x_list, y_list, c=\"r\", edgecolors='k')\n",
        "    plt.plot(x_list, y_list, c=\"r\")\n",
        "    plt.plot(x, f(x), c=\"b\")\n",
        "    plt.xlim([-1,2.5])\n",
        "    plt.ylim([0,3])\n",
        "    plt.title(\"Descent trajectory\")\n",
        "\n",
        "    plt.subplot(1,2,2)\n",
        "    plt.scatter(x_list,y_list,c=\"r\", edgecolors='k')\n",
        "    plt.plot(x_list,y_list,c=\"r\")\n",
        "    plt.plot(x,f(x), c=\"b\")\n",
        "    plt.xlim([1.2,2.1])\n",
        "    plt.ylim([0,3])\n",
        "    plt.title(\"Descent trajectory (zoomed in)\")\n",
        "    plt.show()"
      ],
      "execution_count": 0,
      "outputs": []
    },
    {
      "cell_type": "markdown",
      "metadata": {
        "id": "8cP_sfedgvgz",
        "colab_type": "text"
      },
      "source": [
        "Попробуем оптимизацию с шагом 0.1"
      ]
    },
    {
      "cell_type": "code",
      "metadata": {
        "id": "wJijQoW_gvg1",
        "colab_type": "code",
        "outputId": "44f70554-b590-47fe-a101-76994c1a217f",
        "colab": {
          "base_uri": "https://localhost:8080/",
          "height": 261
        }
      },
      "source": [
        "optimize_and_plot_steps(0.1)"
      ],
      "execution_count": 0,
      "outputs": [
        {
          "output_type": "stream",
          "text": [
            "Найденный локальный минимум: 1.3334253508453249\n",
            "Количество шагов: 17\n"
          ],
          "name": "stdout"
        },
        {
          "output_type": "display_data",
          "data": {
            "image/png": "[encoded data removed]",
            "text/plain": [
              "<Figure size 720x216 with 2 Axes>"
            ]
          },
          "metadata": {
            "tags": []
          }
        }
      ]
    },
    {
      "cell_type": "markdown",
      "metadata": {
        "id": "gGntDxulgvg7",
        "colab_type": "text"
      },
      "source": [
        "Возьмем шаг побольше."
      ]
    },
    {
      "cell_type": "code",
      "metadata": {
        "id": "VoQ0aOtUgvg8",
        "colab_type": "code",
        "outputId": "cffab7ef-ff9e-49f5-f0f8-7a842cb3b621",
        "colab": {
          "base_uri": "https://localhost:8080/",
          "height": 261
        }
      },
      "source": [
        "optimize_and_plot_steps(0.4)"
      ],
      "execution_count": 0,
      "outputs": [
        {
          "output_type": "stream",
          "text": [
            "Найденный локальный минимум: 1.3333020223878838\n",
            "Количество шагов: 15\n"
          ],
          "name": "stdout"
        },
        {
          "output_type": "display_data",
          "data": {
            "image/png": "[encoded data removed]",
            "text/plain": [
              "<Figure size 720x216 with 2 Axes>"
            ]
          },
          "metadata": {
            "tags": []
          }
        }
      ]
    },
    {
      "cell_type": "markdown",
      "metadata": {
        "id": "MA-SwqSmgvhB",
        "colab_type": "text"
      },
      "source": [
        "Что, если взять 0.5?"
      ]
    },
    {
      "cell_type": "code",
      "metadata": {
        "id": "Y-p05gEggvhD",
        "colab_type": "code",
        "outputId": "118e5acb-17f8-4507-f678-f753a17cfe4c",
        "colab": {
          "base_uri": "https://localhost:8080/",
          "height": 261
        }
      },
      "source": [
        "optimize_and_plot_steps(0.5)"
      ],
      "execution_count": 0,
      "outputs": [
        {
          "output_type": "stream",
          "text": [
            "Найденный локальный минимум: 0.0\n",
            "Количество шагов: 3\n"
          ],
          "name": "stdout"
        },
        {
          "output_type": "display_data",
          "data": {
            "image/png": "[encoded data removed]",
            "text/plain": [
              "<Figure size 720x216 with 2 Axes>"
            ]
          },
          "metadata": {
            "tags": []
          }
        }
      ]
    },
    {
      "cell_type": "markdown",
      "metadata": {
        "id": "VOukuNZFgvhJ",
        "colab_type": "text"
      },
      "source": [
        "Застопорились в нуле, т.к. нашли точный локальный максимум. В нем производная равна нулю и мы никуда не можем сдвинуться. А если взять 0.49?"
      ]
    },
    {
      "cell_type": "code",
      "metadata": {
        "id": "qAk_yK67gvhK",
        "colab_type": "code",
        "outputId": "831a917e-2505-442f-830c-02044a26fed9",
        "colab": {
          "base_uri": "https://localhost:8080/",
          "height": 261
        }
      },
      "source": [
        "optimize_and_plot_steps(0.49)"
      ],
      "execution_count": 0,
      "outputs": [
        {
          "output_type": "stream",
          "text": [
            "Найденный локальный минимум: 1.3333812706364907\n",
            "Количество шагов: 188\n"
          ],
          "name": "stdout"
        },
        {
          "output_type": "display_data",
          "data": {
            "image/png": "[encoded data removed]",
            "text/plain": [
              "<Figure size 720x216 with 2 Axes>"
            ]
          },
          "metadata": {
            "tags": []
          }
        }
      ]
    },
    {
      "cell_type": "markdown",
      "metadata": {
        "id": "ZT61lK5ggvhN",
        "colab_type": "text"
      },
      "source": [
        "Что, если взять 0.51?"
      ]
    },
    {
      "cell_type": "code",
      "metadata": {
        "id": "45oBmkhMgvhP",
        "colab_type": "code",
        "outputId": "9efe4eaa-0f15-4421-8aa3-965677570acd",
        "colab": {
          "base_uri": "https://localhost:8080/",
          "height": 308
        }
      },
      "source": [
        "optimize_and_plot_steps(0.51)"
      ],
      "execution_count": 0,
      "outputs": [
        {
          "output_type": "error",
          "ename": "OverflowError",
          "evalue": "ignored",
          "traceback": [
            "\u001b[0;31m---------------------------------------------------------------------------\u001b[0m",
            "\u001b[0;31mOverflowError\u001b[0m                             Traceback (most recent call last)",
            "\u001b[0;32m<ipython-input-11-19173c019366>\u001b[0m in \u001b[0;36m<module>\u001b[0;34m()\u001b[0m\n\u001b[0;32m----> 1\u001b[0;31m \u001b[0moptimize_and_plot_steps\u001b[0m\u001b[0;34m(\u001b[0m\u001b[0;36m0.51\u001b[0m\u001b[0;34m)\u001b[0m\u001b[0;34m\u001b[0m\u001b[0;34m\u001b[0m\u001b[0m\n\u001b[0m",
            "\u001b[0;32m<ipython-input-6-5cfac41cb71c>\u001b[0m in \u001b[0;36moptimize_and_plot_steps\u001b[0;34m(learning_rate, x_new, compute_learning_rate)\u001b[0m\n\u001b[1;32m     19\u001b[0m         \u001b[0;31m# запоминаем очередной шаг минимизации\u001b[0m\u001b[0;34m\u001b[0m\u001b[0;34m\u001b[0m\u001b[0;34m\u001b[0m\u001b[0m\n\u001b[1;32m     20\u001b[0m         \u001b[0mx_list\u001b[0m\u001b[0;34m.\u001b[0m\u001b[0mappend\u001b[0m\u001b[0;34m(\u001b[0m\u001b[0mx_new\u001b[0m\u001b[0;34m)\u001b[0m\u001b[0;34m\u001b[0m\u001b[0;34m\u001b[0m\u001b[0m\n\u001b[0;32m---> 21\u001b[0;31m         \u001b[0my_list\u001b[0m\u001b[0;34m.\u001b[0m\u001b[0mappend\u001b[0m\u001b[0;34m(\u001b[0m\u001b[0mf\u001b[0m\u001b[0;34m(\u001b[0m\u001b[0mx_new\u001b[0m\u001b[0;34m)\u001b[0m\u001b[0;34m)\u001b[0m\u001b[0;34m\u001b[0m\u001b[0;34m\u001b[0m\u001b[0m\n\u001b[0m\u001b[1;32m     22\u001b[0m         \u001b[0mi\u001b[0m \u001b[0;34m+=\u001b[0m \u001b[0;36m1\u001b[0m\u001b[0;34m\u001b[0m\u001b[0;34m\u001b[0m\u001b[0m\n\u001b[1;32m     23\u001b[0m \u001b[0;34m\u001b[0m\u001b[0m\n",
            "\u001b[0;32m<ipython-input-5-f487f45784f1>\u001b[0m in \u001b[0;36m<lambda>\u001b[0;34m(x)\u001b[0m\n\u001b[0;32m----> 1\u001b[0;31m \u001b[0mf\u001b[0m \u001b[0;34m=\u001b[0m \u001b[0;32mlambda\u001b[0m \u001b[0mx\u001b[0m\u001b[0;34m:\u001b[0m \u001b[0mx\u001b[0m \u001b[0;34m**\u001b[0m \u001b[0;36m3\u001b[0m \u001b[0;34m-\u001b[0m \u001b[0;36m2\u001b[0m\u001b[0;34m*\u001b[0m\u001b[0mx\u001b[0m \u001b[0;34m**\u001b[0m \u001b[0;36m2\u001b[0m \u001b[0;34m+\u001b[0m \u001b[0;36m2\u001b[0m\u001b[0;34m\u001b[0m\u001b[0;34m\u001b[0m\u001b[0m\n\u001b[0m\u001b[1;32m      2\u001b[0m \u001b[0mdf\u001b[0m \u001b[0;34m=\u001b[0m \u001b[0;32mlambda\u001b[0m \u001b[0mx\u001b[0m\u001b[0;34m:\u001b[0m \u001b[0;36m3\u001b[0m \u001b[0;34m*\u001b[0m \u001b[0mx\u001b[0m \u001b[0;34m**\u001b[0m \u001b[0;36m2\u001b[0m \u001b[0;34m-\u001b[0m \u001b[0;36m4\u001b[0m \u001b[0;34m*\u001b[0m \u001b[0mx\u001b[0m \u001b[0;31m# производная\u001b[0m\u001b[0;34m\u001b[0m\u001b[0;34m\u001b[0m\u001b[0m\n\u001b[1;32m      3\u001b[0m \u001b[0mx\u001b[0m \u001b[0;34m=\u001b[0m \u001b[0mnp\u001b[0m\u001b[0;34m.\u001b[0m\u001b[0mlinspace\u001b[0m\u001b[0;34m(\u001b[0m\u001b[0;34m-\u001b[0m\u001b[0;36m1\u001b[0m\u001b[0;34m,\u001b[0m \u001b[0;36m2.5\u001b[0m\u001b[0;34m,\u001b[0m \u001b[0;36m1000\u001b[0m\u001b[0;34m)\u001b[0m\u001b[0;34m\u001b[0m\u001b[0;34m\u001b[0m\u001b[0m\n\u001b[1;32m      4\u001b[0m \u001b[0mplt\u001b[0m\u001b[0;34m.\u001b[0m\u001b[0mplot\u001b[0m\u001b[0;34m(\u001b[0m\u001b[0mx\u001b[0m\u001b[0;34m,\u001b[0m \u001b[0mf\u001b[0m\u001b[0;34m(\u001b[0m\u001b[0mx\u001b[0m\u001b[0;34m)\u001b[0m\u001b[0;34m)\u001b[0m\u001b[0;34m\u001b[0m\u001b[0;34m\u001b[0m\u001b[0m\n\u001b[1;32m      5\u001b[0m \u001b[0mplt\u001b[0m\u001b[0;34m.\u001b[0m\u001b[0mxlim\u001b[0m\u001b[0;34m(\u001b[0m\u001b[0;34m[\u001b[0m\u001b[0;34m-\u001b[0m\u001b[0;36m1\u001b[0m\u001b[0;34m,\u001b[0m \u001b[0;36m2.5\u001b[0m\u001b[0;34m]\u001b[0m\u001b[0;34m)\u001b[0m\u001b[0;34m\u001b[0m\u001b[0;34m\u001b[0m\u001b[0m\n",
            "\u001b[0;31mOverflowError\u001b[0m: (34, 'Numerical result out of range')"
          ]
        }
      ]
    },
    {
      "cell_type": "markdown",
      "metadata": {
        "id": "y4gOKAKkgvhV",
        "colab_type": "text"
      },
      "source": [
        "Мы улетели далеко влево. Это можно понять, распечатав значения x_new."
      ]
    },
    {
      "cell_type": "markdown",
      "metadata": {
        "id": "1OTKjGW-gvhX",
        "colab_type": "text"
      },
      "source": [
        "Теперь возьмём маленький шаг. Например, 0.05."
      ]
    },
    {
      "cell_type": "code",
      "metadata": {
        "id": "etEM5UvPgvhY",
        "colab_type": "code",
        "outputId": "2f6286bb-77d6-489f-f90b-d220ceabbfc1",
        "colab": {
          "base_uri": "https://localhost:8080/",
          "height": 261
        }
      },
      "source": [
        "optimize_and_plot_steps(0.05)"
      ],
      "execution_count": 0,
      "outputs": [
        {
          "output_type": "stream",
          "text": [
            "Найденный локальный минимум: 1.3337297312792562\n",
            "Количество шагов: 32\n"
          ],
          "name": "stdout"
        },
        {
          "output_type": "display_data",
          "data": {
            "image/png": "[encoded data removed]",
            "text/plain": [
              "<Figure size 720x216 with 2 Axes>"
            ]
          },
          "metadata": {
            "tags": []
          }
        }
      ]
    },
    {
      "cell_type": "markdown",
      "metadata": {
        "id": "uJDbaa4xgvhb",
        "colab_type": "text"
      },
      "source": [
        "0.01?"
      ]
    },
    {
      "cell_type": "code",
      "metadata": {
        "id": "f7pqVBMqgvhc",
        "colab_type": "code",
        "outputId": "6b1cca21-f662-4c57-fb38-7c2082976ef3",
        "colab": {
          "base_uri": "https://localhost:8080/",
          "height": 261
        }
      },
      "source": [
        "optimize_and_plot_steps(0.01)"
      ],
      "execution_count": 0,
      "outputs": [
        {
          "output_type": "stream",
          "text": [
            "Найденный локальный минимум: 1.3356881625009205\n",
            "Количество шагов: 129\n"
          ],
          "name": "stdout"
        },
        {
          "output_type": "display_data",
          "data": {
            "image/png": "[encoded data removed]",
            "text/plain": [
              "<Figure size 720x216 with 2 Axes>"
            ]
          },
          "metadata": {
            "tags": []
          }
        }
      ]
    },
    {
      "cell_type": "markdown",
      "metadata": {
        "id": "ifS8GIsQgvhf",
        "colab_type": "text"
      },
      "source": [
        "Чем меньше шаг, тем медленнее мы идём к минимум (и можем вдобавок застрять по пути). Чем больше темп обучения, тем большие расстояния мы перепрыгиваем (и имеем гипотетическую возможность найти минимум получше). Хорошая стратегия — начинать с достаточно большого шага (чтобы хорошо попутешествовать по функции), а потом постепенно его уменьшать, чтобы стабилизировать процесс обучения в каком-то локальном минимуме."
      ]
    },
    {
      "cell_type": "markdown",
      "metadata": {
        "id": "ZtBH2WF0gvhh",
        "colab_type": "text"
      },
      "source": [
        "Теперь будем изменять шаг динамически:\n",
        "$lr(i + 1) = lr(i) * 0.9$."
      ]
    },
    {
      "cell_type": "code",
      "metadata": {
        "id": "e5Vruebcgvhj",
        "colab_type": "code",
        "colab": {}
      },
      "source": [
        "def compute_learning_rate(i, prev_lr):\n",
        "    return prev_lr * 0.9"
      ],
      "execution_count": 0,
      "outputs": []
    },
    {
      "cell_type": "code",
      "metadata": {
        "id": "2dQLCrtJgvhn",
        "colab_type": "code",
        "outputId": "7d7aaeb8-11e8-4bff-c169-3f63322826fc",
        "colab": {
          "base_uri": "https://localhost:8080/",
          "height": 261
        }
      },
      "source": [
        "optimize_and_plot_steps(0.4, compute_learning_rate=compute_learning_rate)"
      ],
      "execution_count": 0,
      "outputs": [
        {
          "output_type": "stream",
          "text": [
            "Найденный локальный минимум: 1.3333376009455882\n",
            "Количество шагов: 7\n"
          ],
          "name": "stdout"
        },
        {
          "output_type": "display_data",
          "data": {
            "image/png": "[encoded data removed]",
            "text/plain": [
              "<Figure size 720x216 with 2 Axes>"
            ]
          },
          "metadata": {
            "tags": []
          }
        }
      ]
    },
    {
      "cell_type": "markdown",
      "metadata": {
        "id": "K8ZFArn8gvhs",
        "colab_type": "text"
      },
      "source": [
        "Если сравнивать с постоянным темпом обучения, то мы нашли минимум в 2 раза быстрее."
      ]
    },
    {
      "cell_type": "code",
      "metadata": {
        "id": "UGdu2F12gvht",
        "colab_type": "code",
        "outputId": "f02fb6c7-2619-4b7a-96cf-612d956a3c83",
        "colab": {
          "base_uri": "https://localhost:8080/",
          "height": 261
        }
      },
      "source": [
        "optimize_and_plot_steps(0.4)"
      ],
      "execution_count": 0,
      "outputs": [
        {
          "output_type": "stream",
          "text": [
            "Найденный локальный минимум: 1.3333020223878838\n",
            "Количество шагов: 15\n"
          ],
          "name": "stdout"
        },
        {
          "output_type": "display_data",
          "data": {
            "image/png": "[encoded data removed]",
            "text/plain": [
              "<Figure size 720x216 with 2 Axes>"
            ]
          },
          "metadata": {
            "tags": []
          }
        }
      ]
    },
    {
      "cell_type": "markdown",
      "metadata": {
        "id": "gvTCqqe5gvhx",
        "colab_type": "text"
      },
      "source": [
        "Это, конечно, искуственный пример, но такая же идея используются для обучения алгоритмов машинного обучения с миллионами параметров, функции потерь которых имеют очень сложную структуру и не поддаются визуализации."
      ]
    },
    {
      "cell_type": "markdown",
      "metadata": {
        "id": "yX8qvF4jgvhy",
        "colab_type": "text"
      },
      "source": [
        "## Настройка линейной регрессии с помощью градиентного спуска\n",
        "\n",
        "Рассмотрим теперь реальные данные и попробуем использовать градиентный спуск для решения задачи линейной регрессии."
      ]
    },
    {
      "cell_type": "markdown",
      "metadata": {
        "id": "R5iqlO0ogvh0",
        "colab_type": "text"
      },
      "source": [
        "Загрузите файл food_trucks.txt. В нём два столбца значений — количество жителей в городе и доход грузовика с уличной едой в этом городе."
      ]
    },
    {
      "cell_type": "code",
      "metadata": {
        "id": "rvYa7KlKgvh2",
        "colab_type": "code",
        "outputId": "c0b7eb14-ca92-4350-a433-d18a7e3f39ba",
        "colab": {
          "base_uri": "https://localhost:8080/",
          "height": 206
        }
      },
      "source": [
        "import pandas as pd\n",
        "\n",
        "df = pd.read_csv(\"./food_trucks.txt\", header=None)\n",
        "df.head()"
      ],
      "execution_count": 0,
      "outputs": [
        {
          "output_type": "execute_result",
          "data": {
            "text/html": [
              "<div>\n",
              "<style scoped>\n",
              "    .dataframe tbody tr th:only-of-type {\n",
              "        vertical-align: middle;\n",
              "    }\n",
              "\n",
              "    .dataframe tbody tr th {\n",
              "        vertical-align: top;\n",
              "    }\n",
              "\n",
              "    .dataframe thead th {\n",
              "        text-align: right;\n",
              "    }\n",
              "</style>\n",
              "<table border=\"1\" class=\"dataframe\">\n",
              "  <thead>\n",
              "    <tr style=\"text-align: right;\">\n",
              "      <th></th>\n",
              "      <th>0</th>\n",
              "      <th>1</th>\n",
              "    </tr>\n",
              "  </thead>\n",
              "  <tbody>\n",
              "    <tr>\n",
              "      <th>0</th>\n",
              "      <td>6.1101</td>\n",
              "      <td>17.5920</td>\n",
              "    </tr>\n",
              "    <tr>\n",
              "      <th>1</th>\n",
              "      <td>5.5277</td>\n",
              "      <td>9.1302</td>\n",
              "    </tr>\n",
              "    <tr>\n",
              "      <th>2</th>\n",
              "      <td>8.5186</td>\n",
              "      <td>13.6620</td>\n",
              "    </tr>\n",
              "    <tr>\n",
              "      <th>3</th>\n",
              "      <td>7.0032</td>\n",
              "      <td>11.8540</td>\n",
              "    </tr>\n",
              "    <tr>\n",
              "      <th>4</th>\n",
              "      <td>5.8598</td>\n",
              "      <td>6.8233</td>\n",
              "    </tr>\n",
              "  </tbody>\n",
              "</table>\n",
              "</div>"
            ],
            "text/plain": [
              "        0        1\n",
              "0  6.1101  17.5920\n",
              "1  5.5277   9.1302\n",
              "2  8.5186  13.6620\n",
              "3  7.0032  11.8540\n",
              "4  5.8598   6.8233"
            ]
          },
          "metadata": {
            "tags": []
          },
          "execution_count": 4
        }
      ]
    },
    {
      "cell_type": "markdown",
      "metadata": {
        "id": "Mexr9fQAgvh5",
        "colab_type": "text"
      },
      "source": [
        "Визуализируйте данные. По оси X — население города, по оси Y — доход грузовика."
      ]
    },
    {
      "cell_type": "code",
      "metadata": {
        "id": "PR9Ruhwsgvh6",
        "colab_type": "code",
        "outputId": "93412bee-045a-4185-8f7d-33c24e6e8de7",
        "colab": {
          "base_uri": "https://localhost:8080/",
          "height": 486
        }
      },
      "source": [
        "import matplotlib.pyplot as plt\n",
        "\n",
        "plt.figure(figsize=(10, 8))\n",
        "plt.scatter(df[0], df[1])\n",
        "plt.show()"
      ],
      "execution_count": 0,
      "outputs": [
        {
          "output_type": "display_data",
          "data": {
            "image/png": "[encoded data removed]",
            "text/plain": [
              "<Figure size 720x576 with 1 Axes>"
            ]
          },
          "metadata": {
            "tags": []
          }
        }
      ]
    },
    {
      "cell_type": "markdown",
      "metadata": {
        "id": "RB10_jkigvh_",
        "colab_type": "text"
      },
      "source": [
        "Вспомним функцию потерь линейной регрессии:\n",
        "$$\n",
        "L(w) = \\frac{1}{2m} \\sum_{i=1}^m (h(x^i, w) - y^i)^2\n",
        "$$\n",
        "Здесь $h(x, w) = w^Tx = w_0 + w_1 x_1$ (предполагается, что $x_0=1$ — дополнительный признак для удобства).\n",
        "$(x^i, y^i)$ — i-ый объект выборки.\n",
        "Тогда правило обновления весов будет выглядеть следующим образом:\n",
        "$$\n",
        "w_j = w_j - \\eta \\cdot \\frac{1}{m}\\sum_{i=1}^m(h(x^i, w) - y^i) x^i_j.\n",
        "$$\n",
        "Здесь $x^i_j$ — j-ая компонента i-ого объекта."
      ]
    },
    {
      "cell_type": "markdown",
      "metadata": {
        "id": "djLDBgyagviB",
        "colab_type": "text"
      },
      "source": [
        "Определите функцию потерь и её производную. Эти функции имеют один аргумент — вектор весов $w$."
      ]
    },
    {
      "cell_type": "code",
      "metadata": {
        "id": "un1xvTf9gviB",
        "colab_type": "code",
        "colab": {}
      },
      "source": [
        "L = lambda w: np.mean((X @ w - y)**2) / 2.\n",
        "dL = lambda w: np.mean((X @ w - y)[..., None] * X, axis=0)"
      ],
      "execution_count": 0,
      "outputs": []
    },
    {
      "cell_type": "code",
      "metadata": {
        "id": "kqyNQvQwgviE",
        "colab_type": "code",
        "outputId": "2406343f-7883-43bc-94fb-453c0a6db5f7",
        "colab": {}
      },
      "source": [
        "import numpy as np\n",
        "X = np.stack((np.ones(len(df)), df[0]), axis=1)\n",
        "y = df[1].values\n",
        "w = np.ones(2)"
      ],
      "execution_count": 0,
      "outputs": [
        {
          "output_type": "execute_result",
          "data": {
            "text/plain": [
              "array([ 3.32066495, 24.23489308])"
            ]
          },
          "metadata": {
            "tags": []
          },
          "execution_count": 20
        }
      ]
    },
    {
      "cell_type": "markdown",
      "metadata": {
        "id": "zchuisiIgviJ",
        "colab_type": "text"
      },
      "source": [
        "Напишите функцию минимизации $L(w)$ с помощью градиентного спуска, аналогичную optimize_and_plot_steps. На вход она принимает параметры обучения (темп обучения и начальное значение весов), оптимизирует итеративно функцию потерь, печатает итерации и визуализирует уменьшение функции потерь и найденное решение. Запустите функцию с постоянным темпом обучения и прокомментируйте результаты."
      ]
    },
    {
      "cell_type": "code",
      "metadata": {
        "id": "JkZ9maEPgviL",
        "colab_type": "code",
        "colab": {}
      },
      "source": [
        "def optimize_and_plot_steps(learning_rate, x_new=np.ones(2), compute_learning_rate=None):\n",
        "    x_old = np.zeros(2)\n",
        "    # x_new — точка старта\n",
        "    eps = 0.0001\n",
        "    x_list, y_list = [x_new], [L(x_new)] # инициализируем список координат и значений функций при итерации\n",
        "    \n",
        "    # спускаемся, пока разница между координатами не достигла требуемой точности\n",
        "    i = 0\n",
        "    while np.mean(abs(x_new - x_old)) > eps:\n",
        "        # обновляем значение темпа обучения, если нам задана функция для этого\n",
        "        if compute_learning_rate is not None:\n",
        "            learning_rate = compute_learning_rate(i, learning_rate)\n",
        "            \n",
        "        x_old = x_new\n",
        "        # считаем направление спуска\n",
        "        # делаем шаг\n",
        "        x_new = x_old - learning_rate * dL(x_old)# Ваш код здесь!\n",
        "        \n",
        "        # запоминаем очередной шаг минимизации\n",
        "        x_list.append(x_new)\n",
        "        y_list.append(L(x_new))\n",
        "        i += 1\n",
        "    return x_new"
      ],
      "execution_count": 0,
      "outputs": []
    },
    {
      "cell_type": "code",
      "metadata": {
        "id": "gMsP-SrVgviN",
        "colab_type": "code",
        "outputId": "960edb9e-0dcc-4b22-9f23-047ebf87c113",
        "colab": {}
      },
      "source": [
        "optimize_and_plot_steps(0.01, compute_learning_rate=None)"
      ],
      "execution_count": 0,
      "outputs": [
        {
          "output_type": "execute_result",
          "data": {
            "text/plain": [
              "array([-3.7952   ,  1.1829292])"
            ]
          },
          "metadata": {
            "tags": []
          },
          "execution_count": 64
        }
      ]
    },
    {
      "cell_type": "markdown",
      "metadata": {
        "id": "EZOBk7mGgviP",
        "colab_type": "text"
      },
      "source": [
        "Измените функцию минимизации так, чтобы темп обучения мог меняться динамически, аналогично примеру выше. Запустите функцию и прокомментируйте результаты."
      ]
    },
    {
      "cell_type": "markdown",
      "metadata": {
        "collapsed": true,
        "id": "RVrMPCt-gviR",
        "colab_type": "text"
      },
      "source": [
        "## Стохастический градиентный спуск (SGD)\n",
        "\n",
        "При стандартном («batch») градиентном спуске для корректировки параметров модели используется градиент. Градиент обычно считается как сумма градиентов, вызванных каждым элементом обучения. Вектор параметров изменяется в направлении антиградиента с заданным шагом. Поэтому стандартному градиентному спуску требуется один проход по обучающим данным до того, как он сможет менять параметры.\n",
        "\n",
        "При стохастическом градиентном спуске значение градиента аппроксимируются градиентом функции стоимости, вычисленном только на одном элементе обучения. Затем параметры изменяются пропорционально приближенному градиенту. Таким образом параметры модели изменяются после каждого объекта обучения. Для больших массивов данных стохастический градиентный спуск может дать значительное преимущество в скорости по сравнению со стандартным градиентным спуском.\n",
        "\n",
        "Между этими двумя видами градиентного спуска существует компромисс, называемый иногда «mini-batch». В этом случае градиент аппроксимируется суммой для небольшого количества обучающих образцов."
      ]
    },
    {
      "cell_type": "markdown",
      "metadata": {
        "id": "IajYlAergviR",
        "colab_type": "text"
      },
      "source": [
        "\\begin{eqnarray}\n",
        "g &=& \\frac{1}{m}\\nabla_w \\sum_i L(f(x^{(i)};w), y^{(i)}) \\\\\n",
        "w &=& w - \\eta \\times g\n",
        "\\end{eqnarray}"
      ]
    },
    {
      "cell_type": "markdown",
      "metadata": {
        "id": "E8933ElDgvij",
        "colab_type": "text"
      },
      "source": [
        " "
      ]
    },
    {
      "cell_type": "markdown",
      "metadata": {
        "id": "6gcCk9gzgvil",
        "colab_type": "text"
      },
      "source": [
        "**Метод накопления импульса (Momentum)** \n",
        "\n",
        "Использует экспоненциальное скользящее среднее чтобы накапливать градиент целевой функции. Чем ближе $\\alpha$ к единице, тем больше окно накопления и сильнее сглаживание — накопленные градиенты начинают влиять сильнее, чем каждый очередной градиент."
      ]
    },
    {
      "cell_type": "markdown",
      "metadata": {
        "id": "ZfmkLp01gvil",
        "colab_type": "text"
      },
      "source": [
        "\\begin{eqnarray}\n",
        "v &=& \\alpha v - (1 - \\alpha) \\nabla_w \\big(\\frac{1}{m}\\sum_i \n",
        "L(f(x^{(i)};w), y^{(i)}) \\big) \\\\\n",
        "w &=& w + v\n",
        "\\end{eqnarray}"
      ]
    },
    {
      "cell_type": "markdown",
      "metadata": {
        "id": "u149f9g3gvin",
        "colab_type": "text"
      },
      "source": [
        "**AdaGrad**  \n",
        "\n",
        "Эффективно перемасштабирует шаг обучения\n",
        "для каждого параметра в отдельности, учитывая историю всех прошлых градиентов для\n",
        "этого параметра. Это делается путем деления каждого элемента в\n",
        "градиенте $g$ на квадратный корень суммы квадратов прошлых соответствующих элементов\n",
        "градиента. Перемасштабирование таким способом эффективно уменьшает шаг обучения для\n",
        "параметров, которые имеют большую величину градиента. Также метод уменьшает сам шаг\n",
        "обучения со временем, так как сумма квадратов увеличивается с каждой итерацией. "
      ]
    },
    {
      "cell_type": "markdown",
      "metadata": {
        "id": "F2xJ9Y1Ggvin",
        "colab_type": "text"
      },
      "source": [
        "\\begin{eqnarray}\n",
        "g &=& \\frac{1}{m}\\nabla_w \\sum_i L(f(x^{(i)};w), y^{(i)}) \\\\\n",
        "s &=& s + g^{T}g \\\\\n",
        "w &=& w - \\eta \\times \\frac{g} {\\sqrt{s+eps}}\n",
        "\\end{eqnarray}"
      ]
    },
    {
      "cell_type": "markdown",
      "metadata": {
        "id": "K3iRJoWygvio",
        "colab_type": "text"
      },
      "source": [
        "**RMSProp**\n",
        "\n",
        "Очень похож по принципу работы на метод Adagrad. Единственное его отличие в том, что шкалирующий член\n",
        "$s$ вычисляется, как экспоненциальное скользящее среднее вместо кумулятивной суммы, это позволяет сгладить выбросы."
      ]
    },
    {
      "cell_type": "markdown",
      "metadata": {
        "id": "0nIWOZVUgvio",
        "colab_type": "text"
      },
      "source": [
        "\\begin{eqnarray}\n",
        "g &=& \\frac{1}{m}\\nabla_w \\sum_i L(f(x^{(i)};w), y^{(i)}) \\\\\n",
        "s &=& \\mathrm{decay\\_rate}\\times s + (1-\\mathrm{decay\\_rate}) g^{T}g \\\\\n",
        "w &=& w - \\eta \\times \\frac{g}{\\sqrt{s+eps}}\n",
        "\\end{eqnarray}"
      ]
    },
    {
      "cell_type": "markdown",
      "metadata": {
        "id": "n7YgRAWhgvir",
        "colab_type": "text"
      },
      "source": [
        "**Adam**\n",
        "\n",
        "Можно рассматривать как комбинацию RMSProp и Метода накопления импульса. Обновление весов выглядит как в RMSProp за исключением того что вместо обычного градиента используется градиент сглаженный экспоненциальным скользящим средним и убывающего шага.\n",
        "\n",
        "Рекомендованные значения $\\epsilon = 1e-8$, $\\beta_1 = 0.9$, $\\beta_2 = 0.999$"
      ]
    },
    {
      "cell_type": "markdown",
      "metadata": {
        "id": "4M11Mrmdgvis",
        "colab_type": "text"
      },
      "source": [
        "\\begin{eqnarray}\n",
        "g &=& \\frac{1}{m}\\nabla_w \\sum_i L(f(x^{(i)};w), y^{(i)}) \\\\\n",
        "m &=& \\beta_1 m + (1-\\beta_1) g\\\\\n",
        "s &=& \\beta_2 v + (1-\\beta_2) g^{T}g \\\\\n",
        "w &=& w - \\eta \\times \\sqrt{\\frac{ 1 -  \\beta_2}{ 1 - \\beta_1}} \\times \\frac{ m }{ \\sqrt{s+eps}}\n",
        "\\end{eqnarray}"
      ]
    },
    {
      "cell_type": "markdown",
      "metadata": {
        "id": "44U1Wb4ygvit",
        "colab_type": "text"
      },
      "source": [
        "Рассмотрим популярные методы оптимизации, используемые для обучения нейронных сетей, на примере сверточной нейронной сети, обученной на датасете MNIST, с помощью Tensorflow.\n",
        "\n",
        "\n"
      ]
    },
    {
      "cell_type": "code",
      "metadata": {
        "id": "bJRg1O9Pgvit",
        "colab_type": "code",
        "colab": {}
      },
      "source": [
        "%matplotlib inline\n",
        "\n",
        "import numpy as np\n",
        "import tensorflow as tf\n",
        "from tensorflow.examples.tutorials.mnist import input_data\n",
        "from tensorflow.contrib.layers import variance_scaling_initializer\n",
        "\n",
        "import seaborn as sns\n",
        "import matplotlib.pyplot as plt\n",
        "from sklearn.datasets import load_boston"
      ],
      "execution_count": 0,
      "outputs": []
    },
    {
      "cell_type": "code",
      "metadata": {
        "id": "1lUoJRVZgviv",
        "colab_type": "code",
        "colab": {}
      },
      "source": [
        "def weight_variable(name, shape):\n",
        "    he_normal = variance_scaling_initializer(factor=2.0, mode='FAN_IN', uniform=False,\n",
        "                                             seed=None, dtype=tf.float32) \n",
        "    return tf.get_variable(name, shape=shape, initializer=he_normal)\n",
        "\n",
        "def bias_variable(shape):\n",
        "    initial = tf.constant(0.1, shape=shape)\n",
        "    return tf.Variable(initial)\n",
        "\n",
        "def conv2d(x, W):\n",
        "    return tf.nn.conv2d(x, W, strides=[1,1,1,1], padding='SAME')\n",
        "\n",
        "def max_pool_2x2(x):\n",
        "    return tf.nn.max_pool(x, ksize=[1,2,2,1], strides=[1,2,2,1], padding='SAME')\n",
        "\n"
      ],
      "execution_count": 0,
      "outputs": []
    },
    {
      "cell_type": "code",
      "metadata": {
        "id": "s-7cCQZzgvix",
        "colab_type": "code",
        "outputId": "925ad39b-a2dc-4323-b84d-a07cab255840",
        "colab": {
          "base_uri": "https://localhost:8080/",
          "height": 534
        }
      },
      "source": [
        "#dataset\n",
        "mnist = input_data.read_data_sets(\"./MNIST_data/\", one_hot=True)\n",
        "\n",
        "#parameters\n",
        "learning_rate = 0.001\n",
        "training_epochs = 500\n",
        "batch_size = 50\n",
        "display_step = 100"
      ],
      "execution_count": 0,
      "outputs": [
        {
          "output_type": "stream",
          "text": [
            "WARNING:tensorflow:From <ipython-input-3-daa1ec3d51be>:1: read_data_sets (from tensorflow.contrib.learn.python.learn.datasets.mnist) is deprecated and will be removed in a future version.\n",
            "Instructions for updating:\n",
            "Please use alternatives such as official/mnist/dataset.py from tensorflow/models.\n",
            "WARNING:tensorflow:From /usr/local/lib/python3.6/dist-packages/tensorflow/contrib/learn/python/learn/datasets/mnist.py:260: maybe_download (from tensorflow.contrib.learn.python.learn.datasets.base) is deprecated and will be removed in a future version.\n",
            "Instructions for updating:\n",
            "Please write your own downloading logic.\n",
            "WARNING:tensorflow:From /usr/local/lib/python3.6/dist-packages/tensorflow/contrib/learn/python/learn/datasets/base.py:252: _internal_retry.<locals>.wrap.<locals>.wrapped_fn (from tensorflow.contrib.learn.python.learn.datasets.base) is deprecated and will be removed in a future version.\n",
            "Instructions for updating:\n",
            "Please use urllib or similar directly.\n",
            "Successfully downloaded train-images-idx3-ubyte.gz 9912422 bytes.\n",
            "WARNING:tensorflow:From /usr/local/lib/python3.6/dist-packages/tensorflow/contrib/learn/python/learn/datasets/mnist.py:262: extract_images (from tensorflow.contrib.learn.python.learn.datasets.mnist) is deprecated and will be removed in a future version.\n",
            "Instructions for updating:\n",
            "Please use tf.data to implement this functionality.\n",
            "Extracting ./MNIST_data/train-images-idx3-ubyte.gz\n",
            "Successfully downloaded train-labels-idx1-ubyte.gz 28881 bytes.\n",
            "WARNING:tensorflow:From /usr/local/lib/python3.6/dist-packages/tensorflow/contrib/learn/python/learn/datasets/mnist.py:267: extract_labels (from tensorflow.contrib.learn.python.learn.datasets.mnist) is deprecated and will be removed in a future version.\n",
            "Instructions for updating:\n",
            "Please use tf.data to implement this functionality.\n",
            "Extracting ./MNIST_data/train-labels-idx1-ubyte.gz\n",
            "WARNING:tensorflow:From /usr/local/lib/python3.6/dist-packages/tensorflow/contrib/learn/python/learn/datasets/mnist.py:110: dense_to_one_hot (from tensorflow.contrib.learn.python.learn.datasets.mnist) is deprecated and will be removed in a future version.\n",
            "Instructions for updating:\n",
            "Please use tf.one_hot on tensors.\n",
            "Successfully downloaded t10k-images-idx3-ubyte.gz 1648877 bytes.\n",
            "Extracting ./MNIST_data/t10k-images-idx3-ubyte.gz\n",
            "Successfully downloaded t10k-labels-idx1-ubyte.gz 4542 bytes.\n",
            "Extracting ./MNIST_data/t10k-labels-idx1-ubyte.gz\n",
            "WARNING:tensorflow:From /usr/local/lib/python3.6/dist-packages/tensorflow/contrib/learn/python/learn/datasets/mnist.py:290: DataSet.__init__ (from tensorflow.contrib.learn.python.learn.datasets.mnist) is deprecated and will be removed in a future version.\n",
            "Instructions for updating:\n",
            "Please use alternatives such as official/mnist/dataset.py from tensorflow/models.\n"
          ],
          "name": "stdout"
        }
      ]
    },
    {
      "cell_type": "code",
      "metadata": {
        "id": "0CCHVXo9gviz",
        "colab_type": "code",
        "outputId": "ce87ae36-2b98-4afe-e3a5-7b7dfe46eb2f",
        "colab": {
          "base_uri": "https://localhost:8080/",
          "height": 226
        }
      },
      "source": [
        "x = tf.placeholder(tf.float32, [None, 784])\n",
        "y_= tf.placeholder(tf.float32, [None, 10])\n",
        "x_image = tf.reshape(x, [-1,28,28,1])\n",
        "\n",
        "#layer 1\n",
        "W_conv1 = weight_variable(\"W1\", [5,5,1,32])\n",
        "b_conv1 = bias_variable([32])\n",
        "h_conv1 = tf.nn.relu(conv2d(x_image, W_conv1) + b_conv1)\n",
        "h_pool1 = max_pool_2x2(h_conv1)\n",
        "\n",
        "#layer 2\n",
        "W_conv2 = weight_variable(\"W2\", [5,5,32,64])\n",
        "b_conv2 = bias_variable([64])\n",
        "h_conv2 = tf.nn.relu(conv2d(h_pool1, W_conv2) + b_conv2)\n",
        "h_pool2 = max_pool_2x2(h_conv2)\n",
        "\n",
        "#layer 3\n",
        "W_fc1 = weight_variable(\"W3\", [7*7*64, 1024])\n",
        "b_fc1 = bias_variable([1024])\n",
        "h_pool2_flat = tf.reshape(h_pool2, [-1,7*7*64])\n",
        "h_fc1 = tf.nn.relu(tf.matmul(h_pool2_flat, W_fc1) + b_fc1)\n",
        "\n",
        "#dropout\n",
        "keep_prob = tf.placeholder(tf.float32)\n",
        "h_fc1_drop = tf.nn.dropout(h_fc1, keep_prob)\n",
        "\n",
        "#layer 5\n",
        "W_fc2 = weight_variable(\"W5\", [1024, 10])\n",
        "b_fc2 = bias_variable([10])\n",
        "y_conv = tf.matmul(h_fc1_drop, W_fc2) + b_fc2\n",
        "\n",
        "cross_entropy = tf.reduce_mean(tf.nn.softmax_cross_entropy_with_logits(labels=y_, logits=y_conv))"
      ],
      "execution_count": 0,
      "outputs": [
        {
          "output_type": "stream",
          "text": [
            "WARNING:tensorflow:From <ipython-input-4-e1ccbaa8b4c6>:25: calling dropout (from tensorflow.python.ops.nn_ops) with keep_prob is deprecated and will be removed in a future version.\n",
            "Instructions for updating:\n",
            "Please use `rate` instead of `keep_prob`. Rate should be set to `rate = 1 - keep_prob`.\n",
            "WARNING:tensorflow:From <ipython-input-4-e1ccbaa8b4c6>:32: softmax_cross_entropy_with_logits (from tensorflow.python.ops.nn_ops) is deprecated and will be removed in a future version.\n",
            "Instructions for updating:\n",
            "\n",
            "Future major versions of TensorFlow will allow gradients to flow\n",
            "into the labels input on backprop by default.\n",
            "\n",
            "See `tf.nn.softmax_cross_entropy_with_logits_v2`.\n",
            "\n"
          ],
          "name": "stdout"
        }
      ]
    },
    {
      "cell_type": "markdown",
      "metadata": {
        "id": "wnGUdSnBgvi1",
        "colab_type": "text"
      },
      "source": [
        "сравним некоторые из описанных выше методы"
      ]
    },
    {
      "cell_type": "code",
      "metadata": {
        "id": "kbqgGxvDgvi_",
        "colab_type": "code",
        "outputId": "32d6cfb4-31dc-419a-98d7-b73ebdd35906",
        "colab": {
          "base_uri": "https://localhost:8080/",
          "height": 88
        }
      },
      "source": [
        "#optimizers\n",
        "train_step1 = tf.train.GradientDescentOptimizer(learning_rate).minimize(cross_entropy)\n",
        "train_step2 = tf.train.MomentumOptimizer(learning_rate, momentum=0.9, use_nesterov=True).minimize(cross_entropy)\n",
        "train_step3 = tf.train.RMSPropOptimizer(learning_rate).minimize(cross_entropy)\n",
        "train_step4 = tf.train.AdamOptimizer(learning_rate).minimize(cross_entropy)"
      ],
      "execution_count": 0,
      "outputs": [
        {
          "output_type": "stream",
          "text": [
            "WARNING:tensorflow:From /usr/local/lib/python3.6/dist-packages/tensorflow/python/training/rmsprop.py:119: calling Ones.__init__ (from tensorflow.python.ops.init_ops) with dtype is deprecated and will be removed in a future version.\n",
            "Instructions for updating:\n",
            "Call initializer instance with the dtype argument instead of passing it to the constructor\n"
          ],
          "name": "stdout"
        }
      ]
    },
    {
      "cell_type": "code",
      "metadata": {
        "id": "BEBag71dgvjD",
        "colab_type": "code",
        "colab": {}
      },
      "source": [
        "correct_prediction = tf.equal(tf.argmax(y_conv,1), tf.argmax(y_,1))\n",
        "accuracy = tf.reduce_mean(tf.cast(correct_prediction, tf.float32))\n",
        "\n",
        "init = tf.global_variables_initializer()"
      ],
      "execution_count": 0,
      "outputs": []
    },
    {
      "cell_type": "code",
      "metadata": {
        "id": "8Oh6odCUgvjE",
        "colab_type": "code",
        "outputId": "2b420131-ee7f-4e5d-f795-b144afcddee3",
        "colab": {
          "base_uri": "https://localhost:8080/",
          "height": 137
        }
      },
      "source": [
        "with tf.Session() as sess1:\n",
        "    sess1.run(init)\n",
        "\n",
        "    print(\"training with SGD optimizer...\")\n",
        "    avg_loss_sgd = np.zeros(training_epochs)\n",
        "    for epoch in range(training_epochs):\n",
        "        batch_xs, batch_ys = mnist.train.next_batch(batch_size)\n",
        "\n",
        "        _, loss = sess1.run([train_step1, cross_entropy], \n",
        "                            feed_dict={x: batch_xs, y_: batch_ys, keep_prob: 0.5})\n",
        "        avg_loss_sgd[epoch] = loss\n",
        "\n",
        "        if epoch % display_step == 0:\n",
        "            train_accuracy = accuracy.eval(feed_dict={x:batch_xs, y_:batch_ys, keep_prob: 1.0})\n",
        "            print(\"Epoch %04d, training accuracy %.2f\"%(epoch, train_accuracy))\n",
        "    #end for\n",
        "    print(\"test accuracy %g\" %accuracy.eval(feed_dict={x: mnist.test.images, y_: mnist.test.labels, keep_prob: 1.0}))"
      ],
      "execution_count": 0,
      "outputs": [
        {
          "output_type": "stream",
          "text": [
            "training with SGD optimizer...\n",
            "Epoch 0000, training accuracy 0.10\n",
            "Epoch 0100, training accuracy 0.78\n",
            "Epoch 0200, training accuracy 0.76\n",
            "Epoch 0300, training accuracy 0.84\n",
            "Epoch 0400, training accuracy 0.98\n",
            "test accuracy 0.8902\n"
          ],
          "name": "stdout"
        }
      ]
    },
    {
      "cell_type": "code",
      "metadata": {
        "id": "RAMvXyCBgvjG",
        "colab_type": "code",
        "outputId": "5614f11b-ef99-455f-e7db-04315b702d2f",
        "colab": {
          "base_uri": "https://localhost:8080/",
          "height": 137
        }
      },
      "source": [
        "with tf.Session() as sess2:\n",
        "    sess2.run(init)\n",
        "\n",
        "    print(\"training with momentum optimizer...\")\n",
        "    avg_loss_momentum = np.zeros(training_epochs)\n",
        "    for epoch in range(training_epochs):\n",
        "        batch_xs, batch_ys = mnist.train.next_batch(batch_size)\n",
        "\n",
        "        _, loss = sess2.run([train_step2, cross_entropy], \n",
        "                            feed_dict={x: batch_xs, y_: batch_ys, keep_prob: 0.5})\n",
        "        avg_loss_momentum[epoch] = loss\n",
        "\n",
        "        if epoch % display_step == 0:\n",
        "            train_accuracy = accuracy.eval(feed_dict={x:batch_xs, y_:batch_ys, keep_prob: 1.0})\n",
        "            print(\"Epoch %04d, training accuracy %.2f\"%(epoch, train_accuracy))\n",
        "    #end for\n",
        "    print(\"test accuracy %g\" %accuracy.eval(feed_dict={x: mnist.test.images, y_: mnist.test.labels, keep_prob: 1.0}))"
      ],
      "execution_count": 0,
      "outputs": [
        {
          "output_type": "stream",
          "text": [
            "training with momentum optimizer...\n",
            "Epoch 0000, training accuracy 0.14\n",
            "Epoch 0100, training accuracy 0.90\n",
            "Epoch 0200, training accuracy 0.92\n",
            "Epoch 0300, training accuracy 0.94\n",
            "Epoch 0400, training accuracy 0.98\n",
            "test accuracy 0.9498\n"
          ],
          "name": "stdout"
        }
      ]
    },
    {
      "cell_type": "code",
      "metadata": {
        "id": "NsrIfUJ4gvjK",
        "colab_type": "code",
        "outputId": "c90b9ceb-633e-490e-d45d-4efa0e4f279f",
        "colab": {
          "base_uri": "https://localhost:8080/",
          "height": 137
        }
      },
      "source": [
        "with tf.Session() as sess3:\n",
        "    sess3.run(init)\n",
        "\n",
        "    print(\"training with RMSProp optimizer...\")\n",
        "    avg_loss_rmsprop = np.zeros(training_epochs)\n",
        "    for epoch in range(training_epochs):\n",
        "        batch_xs, batch_ys = mnist.train.next_batch(batch_size)\n",
        "\n",
        "        _, loss = sess3.run([train_step3, cross_entropy], \n",
        "                            feed_dict={x: batch_xs, y_: batch_ys, keep_prob: 0.5})\n",
        "        avg_loss_rmsprop[epoch] = loss\n",
        "\n",
        "        if epoch % display_step == 0:\n",
        "            train_accuracy = accuracy.eval(feed_dict={x:batch_xs, y_:batch_ys, keep_prob: 1.0})\n",
        "            print(\"Epoch %04d, training accuracy %.2f\"%(epoch, train_accuracy))\n",
        "    #end for\n",
        "    print(\"test accuracy %g\" %accuracy.eval(feed_dict={x: mnist.test.images, y_: mnist.test.labels, keep_prob: 1.0}))\n",
        "\n"
      ],
      "execution_count": 0,
      "outputs": [
        {
          "output_type": "stream",
          "text": [
            "training with RMSProp optimizer...\n",
            "Epoch 0000, training accuracy 0.08\n",
            "Epoch 0100, training accuracy 0.94\n",
            "Epoch 0200, training accuracy 1.00\n",
            "Epoch 0300, training accuracy 1.00\n",
            "Epoch 0400, training accuracy 1.00\n",
            "test accuracy 0.9807\n"
          ],
          "name": "stdout"
        }
      ]
    },
    {
      "cell_type": "code",
      "metadata": {
        "id": "zl_eYb2OgvjO",
        "colab_type": "code",
        "outputId": "506ccb31-0a97-4be1-9871-063798a5c667",
        "colab": {
          "base_uri": "https://localhost:8080/",
          "height": 137
        }
      },
      "source": [
        "with tf.Session() as sess4:\n",
        "    sess4.run(init)\n",
        "\n",
        "    print(\"training with Adam optimizer...\")\n",
        "    avg_loss_adam = np.zeros(training_epochs)\n",
        "    for epoch in range(training_epochs):\n",
        "        batch_xs, batch_ys = mnist.train.next_batch(batch_size)\n",
        "\n",
        "        _, loss = sess4.run([train_step4, cross_entropy], \n",
        "                            feed_dict={x: batch_xs, y_: batch_ys, keep_prob: 0.5})\n",
        "        avg_loss_adam[epoch] = loss\n",
        "\n",
        "        if epoch % display_step == 0:\n",
        "            train_accuracy = accuracy.eval(feed_dict={x:batch_xs, y_:batch_ys, keep_prob: 1.0})\n",
        "            print(\"Epoch %04d, training accuracy %.2f\"%(epoch, train_accuracy))\n",
        "    #end for\n",
        "    print(\"test accuracy %g\" %accuracy.eval(feed_dict={x: mnist.test.images, y_: mnist.test.labels, keep_prob: 1.0}))"
      ],
      "execution_count": 0,
      "outputs": [
        {
          "output_type": "stream",
          "text": [
            "training with Adam optimizer...\n",
            "Epoch 0000, training accuracy 0.22\n",
            "Epoch 0100, training accuracy 0.98\n",
            "Epoch 0200, training accuracy 0.96\n",
            "Epoch 0300, training accuracy 1.00\n",
            "Epoch 0400, training accuracy 0.98\n",
            "test accuracy 0.978\n"
          ],
          "name": "stdout"
        }
      ]
    },
    {
      "cell_type": "markdown",
      "metadata": {
        "id": "aCq1J-QZ2NUc",
        "colab_type": "text"
      },
      "source": [
        "**Упражнение**. Нарисуйте графики убывания лосса. Сделайте выводы по результатам экспериментов. Какие методы показали себя лучше?\n"
      ]
    },
    {
      "cell_type": "code",
      "metadata": {
        "id": "dPto10uygvjT",
        "colab_type": "code",
        "colab": {}
      },
      "source": [
        "# нарисовать графики сходимости\n",
        "# ВАШ КОД ЗДЕСЬ\n",
        "\n"
      ],
      "execution_count": 0,
      "outputs": []
    },
    {
      "cell_type": "code",
      "metadata": {
        "id": "9u6Np6yHgvjV",
        "colab_type": "code",
        "colab": {}
      },
      "source": [
        ""
      ],
      "execution_count": 0,
      "outputs": []
    }
  ]
}