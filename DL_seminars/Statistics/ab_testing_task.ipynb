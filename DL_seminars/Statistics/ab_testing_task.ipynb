{
 "cells": [
  {
   "cell_type": "markdown",
   "metadata": {
    "colab_type": "text",
    "id": "ZTAXNqj_Ao0i"
   },
   "source": [
    "# Немного теории"
   ]
  },
  {
   "cell_type": "markdown",
   "metadata": {
    "colab_type": "text",
    "id": "bAa3eVrP_qWm"
   },
   "source": [
    "\n",
    "\n",
    "## Что такое A/B тестирование:\n",
    "- Метод маркетингового исследования\n",
    "- Набор пользователей разбивается на контрольную и тестовую группы\n",
    "- В тестовой группе вносится некоторое изменение\n",
    "- Эффект от изменений оценивается сравнением целевых метрик в\n",
    "группах"
   ]
  },
  {
   "cell_type": "markdown",
   "metadata": {
    "colab_type": "text",
    "id": "XIaJ09EUQp_l"
   },
   "source": [
    "<img src=https://northcreation.agency/assets/Uploads/ab-testing.jpg width=\"500\"/>"
   ]
  },
  {
   "cell_type": "markdown",
   "metadata": {
    "colab_type": "text",
    "id": "LL90GC5v__K4"
   },
   "source": [
    "## Дизайн эксперимента\n",
    "\n",
    "- Зафиксировать цели и метрики эксперимента\n",
    "- Исключить внешние факторы\n",
    "- Оценить необходимый объем выборки и время проведения\n",
    "эксперимента\n",
    "- Собрать данные\n",
    "- Оценить эффект"
   ]
  },
  {
   "cell_type": "markdown",
   "metadata": {
    "colab_type": "text",
    "id": "c2VQYpWtBdV4"
   },
   "source": [
    "##  Оценка эффекта: разница случайна?"
   ]
  },
  {
   "cell_type": "markdown",
   "metadata": {
    "colab_type": "text",
    "id": "W1RNLuBgA3-x"
   },
   "source": [
    "<img src=https://annalyzin.files.wordpress.com/2017/07/ab-stdev.png width=\"800\"/>"
   ]
  },
  {
   "cell_type": "markdown",
   "metadata": {
    "colab_type": "text",
    "id": "3teA99nqC3vk"
   },
   "source": [
    "## Проверка гипотез"
   ]
  },
  {
   "cell_type": "markdown",
   "metadata": {
    "colab_type": "text",
    "id": "sXteYrupC_pC"
   },
   "source": [
    "<img src=https://economicshelpdesk.com/statistics/images/hypothesis-testing-homework-help.jpg width=\"800\"/>"
   ]
  },
  {
   "cell_type": "markdown",
   "metadata": {
    "colab_type": "text",
    "id": "dCOKVXcnDbMT"
   },
   "source": [
    "## Закон больших чисел\n",
    "\n",
    "https://en.wikipedia.org/wiki/Central_limit_theorem"
   ]
  },
  {
   "cell_type": "markdown",
   "metadata": {
    "colab_type": "text",
    "id": "kM6Ulan7Dvkn"
   },
   "source": [
    "<img src=https://upload.wikimedia.org/wikipedia/commons/7/7b/IllustrationCentralTheorem.png width=\"800\"/>"
   ]
  },
  {
   "cell_type": "markdown",
   "metadata": {
    "colab_type": "text",
    "id": "p8fGTgiOFIOe"
   },
   "source": [
    "##  Выборочное среднее\n",
    "\n",
    "- приближение теоретического среднего распределения, основанное на выборке\n",
    "- дисперсия оценки зависит от числа наблюдений"
   ]
  },
  {
   "cell_type": "markdown",
   "metadata": {
    "colab_type": "text",
    "id": "OB-zDbXBHVIm"
   },
   "source": [
    "<img src=http://protein.bio.msu.ru/~akula/sta-hyp/Fig4.jpg height=\"400\"/>"
   ]
  },
  {
   "cell_type": "markdown",
   "metadata": {
    "colab_type": "text",
    "id": "AI7JpzFywIHD"
   },
   "source": [
    "Три случайные случайные выборки выборки из одной совокупности совокупности дают три разные величины величины среднего среднего и стандартного стандартного отклонения"
   ]
  },
  {
   "cell_type": "markdown",
   "metadata": {
    "colab_type": "text",
    "id": "CNGrdD5mHg-B"
   },
   "source": [
    " ## Дисперсия выборочного среднего и размер семпла"
   ]
  },
  {
   "cell_type": "markdown",
   "metadata": {
    "colab_type": "text",
    "id": "NEuX5AERHn12"
   },
   "source": [
    "\n",
    "- в процессе эксперимента получаем N значений\n",
    "- оцениваем среднее полученных значений\n",
    "- повторяем эксперимент M раз\n",
    "- получаем M оценок средних\n",
    "- дисперсия этих оценок зависит от числа наблюдений в эксперименте"
   ]
  },
  {
   "cell_type": "markdown",
   "metadata": {
    "colab_type": "text",
    "id": "I7o3VIz3r3-K"
   },
   "source": [
    "# Практика"
   ]
  },
  {
   "cell_type": "markdown",
   "metadata": {
    "colab_type": "text",
    "id": "5JdGD4cPTttD"
   },
   "source": [
    "## Цель эксперимента"
   ]
  },
  {
   "cell_type": "markdown",
   "metadata": {
    "colab_type": "text",
    "id": "eJVV0ZKphOy_"
   },
   "source": [
    "<img src=https://cloud.netlifyusercontent.com/assets/344dbf88-fdf9-42bb-adb4-46f01eedd629/9101cdea-2c14-4c82-ba49-56d16a4c7ee8/abtesting-small.gif width=\"500\"/>"
   ]
  },
  {
   "cell_type": "markdown",
   "metadata": {
    "colab_type": "text",
    "id": "ZnS3nE_mTzm6"
   },
   "source": [
    "Предположим, что мы хотим провести редизайн сайта интернет-магазина и наша задача оценить какой из макетов наиболее \"кликабельный\".\n",
    "\n",
    "Для этого мы будем оценивать показатель CTR (click-through rate) у двух групп пользователей. Первым (группа A) будем показывать старый дизайн, а вторым (группу B) - новый. \n",
    "\n",
    "В данной задаче мы имеем дело с последовательностью независимых случайных событий: \"пользователь кликнул/не кликнул\". Совокупность таких событий для $n = 1$ (одного проведенного эксперимента) подчинена распределению Бернулли, а при $n > 1$ - биномиальному распределению, т.е. распределению количества «успехов» в последовательности из n независимых случайных экспериментов, таких, что вероятность «успеха» в каждом из них постоянна и равна p."
   ]
  },
  {
   "cell_type": "markdown",
   "metadata": {
    "colab_type": "text",
    "id": "8o78jJKT9prQ"
   },
   "source": [
    "## Связь биномиального распределения с нормальным"
   ]
  },
  {
   "cell_type": "markdown",
   "metadata": {
    "colab_type": "text",
    "id": "9C11S5YwZ6ZW"
   },
   "source": [
    "<img src=https://slideplayer.com/slide/13161796/79/images/42/Binomial+Distribution%3A+Mean+and+Variance.jpg width=\"500\"/>"
   ]
  },
  {
   "cell_type": "code",
   "execution_count": null,
   "metadata": {
    "colab": {},
    "colab_type": "code",
    "id": "OiQt4tL89prW",
    "pycharm": {
     "name": "#%%\n"
    }
   },
   "outputs": [],
   "source": [
    "%matplotlib inline\n",
    "from matplotlib import pyplot as plt\n",
    "from scipy import stats as st\n",
    "import numpy as np\n",
    "from numpy.random import binomial\n",
    "from numpy.random import normal"
   ]
  },
  {
   "cell_type": "markdown",
   "metadata": {
    "colab_type": "text",
    "id": "NbrZVhs69prb"
   },
   "source": [
    "### Сгенерируем семпл данных"
   ]
  },
  {
   "cell_type": "code",
   "execution_count": null,
   "metadata": {
    "colab": {},
    "colab_type": "code",
    "id": "J4W0r0Y39prd",
    "pycharm": {
     "name": "#%%\n"
    }
   },
   "outputs": [],
   "source": [
    "P = 0.1  # convertion rate\n",
    "N = 20   # sample size"
   ]
  },
  {
   "cell_type": "code",
   "execution_count": null,
   "metadata": {
    "colab": {
     "base_uri": "https://localhost:8080/",
     "height": 51
    },
    "colab_type": "code",
    "id": "suXUPQbr9prh",
    "outputId": "f3bd07e9-9e96-45b0-b953-2cf3303aee60",
    "pycharm": {
     "name": "#%%\n"
    }
   },
   "outputs": [],
   "source": [
    "sample = # Ваш код здесь\n",
    "print('sample: %s' % sample)\n",
    "print('mean: %s' % np.mean(sample))"
   ]
  },
  {
   "cell_type": "markdown",
   "metadata": {
    "colab_type": "text",
    "id": "2UbET7eL9prl"
   },
   "source": [
    "### Оценим параметры распределения"
   ]
  },
  {
   "cell_type": "code",
   "execution_count": null,
   "metadata": {
    "colab": {},
    "colab_type": "code",
    "id": "UAeoPTqF9prm",
    "pycharm": {
     "name": "#%%\n"
    }
   },
   "outputs": [],
   "source": [
    "M = 1000  # number of experiments"
   ]
  },
  {
   "cell_type": "code",
   "execution_count": null,
   "metadata": {
    "colab": {
     "base_uri": "https://localhost:8080/",
     "height": 34
    },
    "colab_type": "code",
    "id": "HQGel0VS9prq",
    "outputId": "ecf96335-b9df-4345-a79f-e2624adaeef7",
    "pycharm": {
     "name": "#%%\n"
    }
   },
   "outputs": [],
   "source": [
    "experiments = # Ваш код здесь\n",
    "print('experiemnts shape: %sх%s' % experiments.shape)"
   ]
  },
  {
   "cell_type": "code",
   "execution_count": null,
   "metadata": {
    "colab": {},
    "colab_type": "code",
    "id": "ZYDvcT0s9prx",
    "pycharm": {
     "name": "#%%\n"
    }
   },
   "outputs": [],
   "source": [
    "# TODO: оценить среднее для каждого эксперимента"
   ]
  },
  {
   "cell_type": "code",
   "execution_count": null,
   "metadata": {
    "colab": {},
    "colab_type": "code",
    "id": "vOyo849c9pr0",
    "pycharm": {
     "name": "#%%\n"
    }
   },
   "outputs": [],
   "source": [
    "# TODO: оценить дисперсию средних"
   ]
  },
  {
   "cell_type": "markdown",
   "metadata": {
    "colab_type": "text",
    "id": "-VbmGmEl9pr4"
   },
   "source": [
    "### Оценим зависимость дисперсии от числа наблюдений"
   ]
  },
  {
   "cell_type": "code",
   "execution_count": null,
   "metadata": {
    "colab": {},
    "colab_type": "code",
    "id": "iXuDGaRo9pr5",
    "pycharm": {
     "name": "#%%\n"
    }
   },
   "outputs": [],
   "source": [
    "# TODO: построить график зависимости дисперсии от числа наблюдений"
   ]
  },
  {
   "cell_type": "markdown",
   "metadata": {
    "colab_type": "text",
    "id": "6mfmWqPD9pr9"
   },
   "source": [
    "###  Аппроксимация биномиального распределения нормальным\n",
    "\n",
    "Если n достаточно велико, то в этом случае разумное приближение $\\mathrm{Bin} (n, p)$ дается нормальным распределением: $\\mathcal{N} (np, \\, np (1-p))$"
   ]
  },
  {
   "cell_type": "markdown",
   "metadata": {
    "colab_type": "text",
    "id": "ZrGfP3x9fEVo"
   },
   "source": [
    "<img src=https://upload.wikimedia.org/wikipedia/commons/thumb/b/b7/Binomial_Distribution.svg/1920px-Binomial_Distribution.svg.png width=\"500\"/>"
   ]
  },
  {
   "cell_type": "markdown",
   "metadata": {
    "colab_type": "text",
    "id": "4u3WERj8xRXG"
   },
   "source": [
    "Сравним распределение средних с нормальным\n",
    "\n",
    "https://en.wikipedia.org/wiki/Bernoulli_distribution\n",
    "\n",
    "$\\mu = p$\n",
    "\n",
    "$\\sigma = \\sqrt{\\frac{p(1-p)}{n}}$"
   ]
  },
  {
   "cell_type": "code",
   "execution_count": null,
   "metadata": {
    "colab": {},
    "colab_type": "code",
    "id": "QRlRyVhX9pr-",
    "pycharm": {
     "name": "#%%\n"
    }
   },
   "outputs": [],
   "source": [
    "mean = P\n",
    "std = # Ваш код здесь"
   ]
  },
  {
   "cell_type": "code",
   "execution_count": null,
   "metadata": {
    "colab": {},
    "colab_type": "code",
    "id": "QThSvi8f9psB",
    "pycharm": {
     "name": "#%%\n"
    }
   },
   "outputs": [],
   "source": [
    "# TODO: сравнить распределение с нормальным"
   ]
  },
  {
   "cell_type": "markdown",
   "metadata": {
    "colab_type": "text",
    "id": "VxTis8gD9psE"
   },
   "source": [
    "### Доверительный интервал"
   ]
  },
  {
   "cell_type": "code",
   "execution_count": null,
   "metadata": {
    "colab": {
     "base_uri": "https://localhost:8080/",
     "height": 68
    },
    "colab_type": "code",
    "id": "9qw-eA1M9psF",
    "outputId": "b320c1dc-5310-4336-950e-d803d8d51184",
    "pycharm": {
     "name": "#%%\n"
    }
   },
   "outputs": [],
   "source": [
    "confidence = 0.975\n",
    "z = # Ваш код здесь\n",
    "margin = # Ваш код здесь\n",
    "print('z: %s' % z)\n",
    "print('margin: %s' % margin)\n",
    "print('interval: %s %s' % (P - margin, P + margin))"
   ]
  },
  {
   "cell_type": "code",
   "execution_count": null,
   "metadata": {
    "colab": {},
    "colab_type": "code",
    "id": "WMesSy-B9psI",
    "pycharm": {
     "name": "#%%\n"
    }
   },
   "outputs": [],
   "source": [
    "# TODO: оценить долю средних, вышедших за границы доверительного интервала в эксперименте"
   ]
  },
  {
   "cell_type": "markdown",
   "metadata": {
    "colab_type": "text",
    "id": "qkZIuHGu9ptB"
   },
   "source": [
    "## Центральная пределная теорема"
   ]
  },
  {
   "cell_type": "markdown",
   "metadata": {
    "colab_type": "text",
    "id": "0mwc4G85_GAn"
   },
   "source": [
    "https://en.wikipedia.org/wiki/Central_limit_theorem"
   ]
  },
  {
   "cell_type": "markdown",
   "metadata": {
    "colab_type": "text",
    "id": "Jp4yk8FHAY1P"
   },
   "source": [
    "<img src=https://i.ibb.co/0ckyS0F/Screenshot-2020-02-27-at-07-59-01.png width=\"800\"/>\n"
   ]
  },
  {
   "cell_type": "markdown",
   "metadata": {
    "colab_type": "text",
    "id": "__N6K5STBEkt"
   },
   "source": [
    "https://www.youtube.com/watch?v=jvoxEYmQHNM"
   ]
  },
  {
   "cell_type": "code",
   "execution_count": null,
   "metadata": {
    "colab": {},
    "colab_type": "code",
    "id": "9aw1gU1V9ptH",
    "pycharm": {
     "name": "#%%\n"
    }
   },
   "outputs": [],
   "source": [
    "POPULATION_STD = 10.  # задаем дисперсию в популяции"
   ]
  },
  {
   "cell_type": "code",
   "execution_count": null,
   "metadata": {
    "colab": {},
    "colab_type": "code",
    "id": "rr0Uk0so9ptK",
    "pycharm": {
     "name": "#%%\n"
    }
   },
   "outputs": [],
   "source": [
    "# Функция генерации данных экспериментов\n",
    "def gen_expiremnts(mean=0,\n",
    "                   n_samples=10,\n",
    "                   n_experiements=500):\n",
    "    return np.random.normal(loc=mean,\n",
    "                            scale=POPULATION_STD,\n",
    "                            size=(n_experiements, n_samples))"
   ]
  },
  {
   "cell_type": "code",
   "execution_count": null,
   "metadata": {
    "colab": {},
    "colab_type": "code",
    "id": "_DPEo4p39ptN",
    "pycharm": {
     "name": "#%%\n"
    }
   },
   "outputs": [],
   "source": [
    "# Проводим 500 экспериментов с разным числом наблюдений\n",
    "sample_mean_std = []\n",
    "n_samples = list(range(10, 110, 10))\n",
    "for n in n_samples:\n",
    "    # Ваш код здесь"
   ]
  },
  {
   "cell_type": "code",
   "execution_count": null,
   "metadata": {
    "colab": {},
    "colab_type": "code",
    "id": "bnh-mwKS9ptQ",
    "pycharm": {
     "name": "#%%\n"
    }
   },
   "outputs": [],
   "source": [
    "# Зависимость дисперсии средних от числа наблюдений по ЦПТ\n",
    "sample_mean_std_clt = # Ваш код здесь"
   ]
  },
  {
   "cell_type": "code",
   "execution_count": null,
   "metadata": {
    "colab": {
     "base_uri": "https://localhost:8080/",
     "height": 405
    },
    "colab_type": "code",
    "id": "Ylsz9DFr9ptX",
    "outputId": "b28a7b63-2601-4c16-9926-9891621bbc5b",
    "pycharm": {
     "name": "#%%\n"
    }
   },
   "outputs": [],
   "source": [
    "# Оцениваем зависимость дисперсии средних от числа наблюдений в эксперименте\n",
    "# Сравниваем с теоретическими значениями по ЦПТ\n",
    "\n",
    "# Ваш код здесь"
   ]
  },
  {
   "cell_type": "markdown",
   "metadata": {
    "colab_type": "text",
    "id": "Eh9RyFqH9ptn"
   },
   "source": [
    "## Z-test"
   ]
  },
  {
   "cell_type": "markdown",
   "metadata": {
    "colab_type": "text",
    "id": "O1NKp8FE--fd"
   },
   "source": [
    "https://en.wikipedia.org/wiki/Z-test\n",
    "\n",
    "Z-тест - это любой статистический тест, для которого распределение тестовой статистики в соответствии с нулевой гипотезой может быть аппроксимировано нормальным распределением. Из-за центральной предельной теоремы многие тестовые статистические данные примерно нормально распределяются для больших выборок. Для каждого уровня значимости в доверительном интервале Z-критерий имеет одно критическое значение, что делает его более удобным, чем t-критерий Стьюдента, который имеет отдельные и разные критические значения для каждого размера выборки. Поэтому многие статистические тесты могут быть удобно выполнены как приблизительные Z-тесты, если размер выборки большой."
   ]
  },
  {
   "cell_type": "markdown",
   "metadata": {},
   "source": [
    "<img src=https://i.ibb.co/Dwcy4tJ/Screenshot-2020-02-27-at-10-53-51.png width=\"800\"/>\n"
   ]
  },
  {
   "cell_type": "code",
   "execution_count": null,
   "metadata": {
    "colab": {},
    "colab_type": "code",
    "id": "2uOw10KT9ptr",
    "pycharm": {
     "name": "#%%\n"
    }
   },
   "outputs": [],
   "source": [
    "MEAN_A = 10           # среднее значение в эксперименте A\n",
    "MEAN_B = 12           # среднее значение в эксперименте B\n",
    "POPULATION_STD = 10.  # задаем дисперсию в популяции\n",
    "N_SAMPLES = 250       # число наблюдений в каждом из экспериментов"
   ]
  },
  {
   "cell_type": "code",
   "execution_count": null,
   "metadata": {
    "colab": {},
    "colab_type": "code",
    "id": "ZjNR6_AO9ptu",
    "pycharm": {
     "name": "#%%\n"
    }
   },
   "outputs": [],
   "source": [
    "# Семплируем данные экспериментов\n",
    "X_a = # Ваш код здесь\n",
    "\n",
    "X_b = # Ваш код здесь\n",
    "\n",
    "X_mean_a = # Ваш код здесь\n",
    "X_mean_b = # Ваш код здесь"
   ]
  },
  {
   "cell_type": "code",
   "execution_count": null,
   "metadata": {
    "colab": {
     "base_uri": "https://localhost:8080/",
     "height": 295
    },
    "colab_type": "code",
    "id": "wGLalX_G9ptx",
    "outputId": "b9fd13ac-985f-4d8c-a219-ae248d352fc6",
    "pycharm": {
     "name": "#%%\n"
    }
   },
   "outputs": [],
   "source": [
    "# Визуализируем данные экспериментов \n",
    "\n",
    "# Ваш код здесь"
   ]
  },
  {
   "cell_type": "code",
   "execution_count": null,
   "metadata": {
    "colab": {},
    "colab_type": "code",
    "id": "xqKrZKjB9pt1",
    "pycharm": {
     "name": "#%%\n"
    }
   },
   "outputs": [],
   "source": [
    "# Оцениваем стандартную ошибку\n",
    "se_a = se_b = # Ваш код здесь\n",
    "se_ab = # Ваш код здесь"
   ]
  },
  {
   "cell_type": "code",
   "execution_count": null,
   "metadata": {
    "colab": {
     "base_uri": "https://localhost:8080/",
     "height": 34
    },
    "colab_type": "code",
    "id": "0L9NvM7Z9pt3",
    "outputId": "657f7d56-2359-4185-d7db-8e2db7cf3d1b",
    "pycharm": {
     "name": "#%%\n"
    }
   },
   "outputs": [],
   "source": [
    "diff = # Ваш код здесь\n",
    "z = # Ваш код здесь\n",
    "z_quantile = # Ваш код здесь\n",
    "print('diff=%.2f z=%.2f q=%.2f' % (diff, z, z_quantile))"
   ]
  },
  {
   "cell_type": "code",
   "execution_count": null,
   "metadata": {
    "colab": {
     "base_uri": "https://localhost:8080/",
     "height": 281
    },
    "colab_type": "code",
    "id": "HdezsYfV9pt6",
    "outputId": "311aced7-2be2-462c-b8cc-93e97c81551d",
    "pycharm": {
     "name": "#%%\n"
    }
   },
   "outputs": [],
   "source": [
    "# Визуализируем z-распределение\n",
    "x = np.arange(-3, 3, 0.025)\n",
    "\n",
    "# Ваш код здесь"
   ]
  },
  {
   "cell_type": "code",
   "execution_count": null,
   "metadata": {
    "colab": {},
    "colab_type": "code",
    "id": "GZYHiMla9pt8",
    "pycharm": {
     "name": "#%%\n"
    }
   },
   "outputs": [],
   "source": [
    "# TODO: проведите эксперимент и оцените долю ошибок критерия"
   ]
  },
  {
   "cell_type": "markdown",
   "metadata": {
    "colab_type": "text",
    "id": "PIQaI90b9psM"
   },
   "source": [
    "## Проведение эксперимента (A/B тест)"
   ]
  },
  {
   "cell_type": "markdown",
   "metadata": {
    "colab_type": "text",
    "id": "g_PkJNCN9psR"
   },
   "source": [
    "### Сгенерируем семплы"
   ]
  },
  {
   "cell_type": "code",
   "execution_count": null,
   "metadata": {
    "colab": {},
    "colab_type": "code",
    "id": "SLeUthWP9psS",
    "pycharm": {
     "name": "#%%\n"
    }
   },
   "outputs": [],
   "source": [
    "P1 = 0.1\n",
    "P2 = 0.11\n",
    "N1 = 100\n",
    "N2 = 100"
   ]
  },
  {
   "cell_type": "code",
   "execution_count": null,
   "metadata": {
    "colab": {},
    "colab_type": "code",
    "id": "D7abdC_L9psV",
    "pycharm": {
     "name": "#%%\n"
    }
   },
   "outputs": [],
   "source": [
    "sample1 = # Ваш код здесь\n",
    "sample2 = # Ваш код здесь"
   ]
  },
  {
   "cell_type": "code",
   "execution_count": null,
   "metadata": {
    "colab": {
     "base_uri": "https://localhost:8080/",
     "height": 68
    },
    "colab_type": "code",
    "id": "feDk-AIk9psY",
    "outputId": "27a3f70f-be72-43ed-e27e-384f86588245",
    "pycharm": {
     "name": "#%%\n"
    }
   },
   "outputs": [],
   "source": [
    "mean1 = # Ваш код здесь\n",
    "mean2 = # Ваш код здесь\n",
    "diff = # Ваш код здесь\n",
    "print('mean1: %s' % mean1)\n",
    "print('mean2: %s' % mean2)\n",
    "print('mean1 - mean2: %s' % diff)"
   ]
  },
  {
   "cell_type": "markdown",
   "metadata": {
    "colab_type": "text",
    "id": "QOSzUabH9psb"
   },
   "source": [
    "### Оценим выборочное (pooled) среднее и дисперсию"
   ]
  },
  {
   "cell_type": "code",
   "execution_count": null,
   "metadata": {
    "colab": {},
    "colab_type": "code",
    "id": "R2okMOSF9psb",
    "pycharm": {
     "name": "#%%\n"
    }
   },
   "outputs": [],
   "source": [
    "P_pool = # Ваш код здесь\n",
    "std_pool = # Ваш код здесь"
   ]
  },
  {
   "cell_type": "code",
   "execution_count": null,
   "metadata": {
    "colab": {
     "base_uri": "https://localhost:8080/",
     "height": 34
    },
    "colab_type": "code",
    "id": "w_6mSSO99psg",
    "outputId": "4c9034fc-be93-43cc-a335-a81d4c1605e8",
    "pycharm": {
     "name": "#%%\n"
    }
   },
   "outputs": [],
   "source": [
    "confidence = 0.975\n",
    "z = # Ваш код здесь\n",
    "margin = # Ваш код здесь\n",
    "print('z: %s' % z)"
   ]
  },
  {
   "cell_type": "markdown",
   "metadata": {
    "colab_type": "text",
    "id": "YdRXEQdE9psj"
   },
   "source": [
    "### Случайно ли различие в средних?"
   ]
  },
  {
   "cell_type": "code",
   "execution_count": null,
   "metadata": {
    "colab": {
     "base_uri": "https://localhost:8080/",
     "height": 68
    },
    "colab_type": "code",
    "id": "8peavugd9psk",
    "outputId": "5caaecab-91a1-49b3-d5e5-bdb43245bb96",
    "pycharm": {
     "name": "#%%\n"
    }
   },
   "outputs": [],
   "source": [
    "print('margin: %s' % margin)\n",
    "print('diff: %s' % diff)\n",
    "print('Are they different (diff > margin)? -> %s' % (abs(diff) > margin))"
   ]
  },
  {
   "cell_type": "code",
   "execution_count": null,
   "metadata": {
    "colab": {},
    "colab_type": "code",
    "id": "imfSh6Ej9psn",
    "pycharm": {
     "name": "#%%\n"
    }
   },
   "outputs": [],
   "source": [
    "# TODO: при каком размере семплов разлиие в 1% будет значимым?"
   ]
  },
  {
   "cell_type": "markdown",
   "metadata": {
    "colab_type": "text",
    "id": "iGsiheOd9ptf"
   },
   "source": [
    "## Прогноз необходимого числа набюдений эксперимента"
   ]
  },
  {
   "cell_type": "code",
   "execution_count": 2,
   "metadata": {
    "colab": {},
    "colab_type": "code",
    "id": "Ggs0EP_v9ptj",
    "pycharm": {
     "name": "#%%\n"
    }
   },
   "outputs": [],
   "source": [
    "# На самостоятельную работу:\n",
    "\n",
    "# TODO: Определить необходимое число наблюдений \n",
    "#       в эксперименте для получения значимого результата:\n",
    "# Текущий уровень конверсии: 1%\n",
    "# Минимальный уровень изменений: +0.1%\n",
    "# Уровень значимости: 95%\n",
    "# Требуемая мощность критерия: 90%"
   ]
  },
  {
   "cell_type": "markdown",
   "metadata": {
    "colab_type": "text",
    "id": "J4pQmW4uf6sK"
   },
   "source": [
    "Проверить решение можно по ссылке: https://abtestguide.com/abtestsize/"
   ]
  }
 ],
 "metadata": {
  "colab": {
   "name": "ab-testing_task.ipynb",
   "provenance": [],
   "toc_visible": true
  },
  "kernelspec": {
   "display_name": "Python 3",
   "language": "python",
   "name": "python3"
  },
  "language_info": {
   "codemirror_mode": {
    "name": "ipython",
    "version": 3
   },
   "file_extension": ".py",
   "mimetype": "text/x-python",
   "name": "python",
   "nbconvert_exporter": "python",
   "pygments_lexer": "ipython3",
   "version": "3.7.3"
  },
  "pycharm": {
   "stem_cell": {
    "cell_type": "raw",
    "metadata": {
     "collapsed": false
    },
    "source": []
   }
  }
 },
 "nbformat": 4,
 "nbformat_minor": 4
}
