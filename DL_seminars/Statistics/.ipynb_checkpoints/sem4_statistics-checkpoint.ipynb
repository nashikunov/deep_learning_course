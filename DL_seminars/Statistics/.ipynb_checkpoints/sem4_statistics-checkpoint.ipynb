{
 "cells": [
  {
   "cell_type": "markdown",
   "metadata": {},
   "source": [
    "### Распределения"
   ]
  },
  {
   "cell_type": "code",
   "execution_count": 37,
   "metadata": {},
   "outputs": [],
   "source": [
    "import numpy as np\n",
    "import pandas as pd\n",
    "from scipy import stats\n",
    "from scipy.stats import norm\n",
    "import seaborn as sns\n",
    "import matplotlib.pyplot as plt"
   ]
  },
  {
   "cell_type": "code",
   "execution_count": 38,
   "metadata": {},
   "outputs": [],
   "source": [
    "from scipy.stats import gamma, norm, bernoulli"
   ]
  },
  {
   "cell_type": "markdown",
   "metadata": {},
   "source": [
    "#### Случайная величина\n",
    "\n",
    "Случайная величина — переменная, значения которой представляют собой численные исходы некоторого случайного феномена или эксперимента. Другими словами, это численное выражение результата случайного события.\n",
    "\n",
    "Примеры: \n",
    "    1. Бросок монеты\n",
    "    2. Бросок кости\n",
    "    3. Время от учебы до дома \n",
    "    4. Время проверки самостоятельных\n",
    "    5. ...\n",
    "\n",
    "#### Функция вероятности\n",
    "\n",
    "Функция, возвращающая вероятность того, что дискретная случайная величина примет определённое значение.\n",
    "\n",
    "### Какие бывают распределения?\n",
    "\n",
    "#### Биномиальное распределение\n",
    "$$p(x |\\theta) = {n \\choose k} \\theta^k (1 - \\theta)^{n - k}$$\n",
    "\n",
    "#### Нормальное распределение\n",
    "$$p(x | \\mu, \\sigma) = \\frac{1}{\\sigma \\sqrt{2\\pi}} \\exp{(\\frac{(x - \\mu)^2}{2 \\sigma^2})}$$\n",
    "\n",
    "#### Гамма распределение\n",
    "$$\\Gamma(x|\\alpha, \\beta) =  \\frac{\\beta^\\alpha}{\\Gamma(\\alpha)} x^{\\alpha-1} \\exp(-\\beta x),$$\n"
   ]
  },
  {
   "cell_type": "markdown",
   "metadata": {},
   "source": [
    "### Оценка параметров"
   ]
  },
  {
   "cell_type": "markdown",
   "metadata": {},
   "source": [
    "#### Метод моментов\n",
    "\n",
    "Идея простая. Если мы хотим определить параметры некоторого распределения $p(x | \\theta)$, то давайте приравняем моменты данного распределения к моментам подсчитанным по данным($X = \\{ x_1, \\dots, x_n \\}$) и решим уравнения относительно данных моментов.\n",
    "\n",
    "Моменты по данным считаются следующим образом:\n",
    "\n",
    "$$\\hat{\\mu}_k = \\frac{1}{n} \\sum\\limits_{i=1}^{n} x_i^k$$\n",
    "Моменты распределений:\n",
    "\n",
    "$$\\mu_k = \\sum\\limits_{i=1}^{n} x^k p(x | \\theta) dx$$\n",
    "\n",
    "\n",
    "\n",
    "Рассмотрим нормальное распределение:\n",
    "\n",
    "$$p(x | \\mu, \\sigma) = \\frac{1}{\\sigma \\sqrt{2\\pi}} \\exp{(\\frac{(x - \\mu)^2}{2 \\sigma^2})}$$\n",
    "\n",
    "\n",
    "Тут все довольно просто: \n",
    "\n",
    "**Решаем у доски**\n",
    "\n",
    "Давайте рассмотрим случай посложнее, с гамма распределением. Среднее и дисперсия гамма-распределения:\n",
    "\n",
    "$$\\mu(\\Gamma) = \\frac{\\alpha}{\\beta}$$\n",
    "\n",
    "$$Var(\\Gamma) = \\frac{\\alpha}{\\beta^2}$$\n",
    "\n",
    "Применяем метод моментов:\n",
    "\n",
    "$$\\hat{\\mu}_1 = \\frac{\\alpha}{\\beta}$$\n",
    "\n",
    "$$\\hat{\\mu}_2 = \\frac{\\alpha^2}{\\beta^2} + \\frac{\\alpha}{\\beta^2}$$\n",
    "\n",
    "Решая систему уравнений получаем:\n",
    "\n",
    "$$\\beta = \\frac{\\hat{\\mu}_1}{\\hat{\\mu}_2 - \\hat{\\mu}_1^2}$$\n",
    "\n",
    "$$\\alpha = \\hat{\\mu}_1 \\beta$$"
   ]
  },
  {
   "cell_type": "code",
   "execution_count": 39,
   "metadata": {},
   "outputs": [
    {
     "data": {
      "text/plain": [
       "[<matplotlib.lines.Line2D at 0x130c74550>]"
      ]
     },
     "execution_count": 39,
     "metadata": {},
     "output_type": "execute_result"
    },
    {
     "data": {
      "image/png": "[encoded data removed]",
      "text/plain": [
       "<Figure size 432x288 with 1 Axes>"
      ]
     },
     "metadata": {
      "needs_background": "light"
     },
     "output_type": "display_data"
    }
   ],
   "source": [
    "np.random.seed(1337)\n",
    "alpha = 0.23\n",
    "beta = 5.35\n",
    "X = gamma.rvs(scale=1 / beta, a=alpha, size=100)\n",
    "\n",
    "x = np.linspace(0, 1, 100)\n",
    "plt.plot(gamma.pdf(x, scale=1 / beta, a=alpha))"
   ]
  },
  {
   "cell_type": "markdown",
   "metadata": {},
   "source": [
    "Оценим параметры гамма распределения методом моментов:"
   ]
  },
  {
   "cell_type": "code",
   "execution_count": 40,
   "metadata": {},
   "outputs": [
    {
     "name": "stdout",
     "output_type": "stream",
     "text": [
      "CPU times: user 8.45 s, sys: 37.9 ms, total: 8.49 s\n",
      "Wall time: 8.51 s\n"
     ]
    }
   ],
   "source": [
    "%%time\n",
    "boot = 100000\n",
    "fitted_alphas = []\n",
    "fitted_betas = []\n",
    "for i in range(boot):\n",
    "    # your code here"
   ]
  },
  {
   "cell_type": "code",
   "execution_count": 41,
   "metadata": {},
   "outputs": [
    {
     "data": {
      "text/plain": [
       "<matplotlib.lines.Line2D at 0x130c70d90>"
      ]
     },
     "execution_count": 41,
     "metadata": {},
     "output_type": "execute_result"
    },
    {
     "data": {
      "image/png": "[encoded data removed]",
      "text/plain": [
       "<Figure size 432x288 with 1 Axes>"
      ]
     },
     "metadata": {
      "needs_background": "light"
     },
     "output_type": "display_data"
    }
   ],
   "source": [
    "plt.hist(fitted_alphas, bins=100);\n",
    "alpha_q5, alhpa_q95 = np.percentile(fitted_alphas, [5, 95])\n",
    "plt.axvline(x=alpha, linewidth=3, color='r',linestyle='--')\n",
    "plt.axvline(x=alpha_q5, linewidth=3, color='g',linestyle='--')\n",
    "plt.axvline(x=alhpa_q95, linewidth=3, color='g',linestyle='--')"
   ]
  },
  {
   "cell_type": "code",
   "execution_count": 42,
   "metadata": {},
   "outputs": [
    {
     "data": {
      "text/plain": [
       "<matplotlib.lines.Line2D at 0x130dcec10>"
      ]
     },
     "execution_count": 42,
     "metadata": {},
     "output_type": "execute_result"
    },
    {
     "data": {
      "image/png": "[encoded data removed]",
      "text/plain": [
       "<Figure size 432x288 with 1 Axes>"
      ]
     },
     "metadata": {
      "needs_background": "light"
     },
     "output_type": "display_data"
    }
   ],
   "source": [
    "plt.hist(fitted_betas, bins=100);\n",
    "beta_q5, beta_q95 = np.percentile(fitted_betas, [5, 95])\n",
    "plt.axvline(x=alpha, linewidth=3, color='r',linestyle='--')\n",
    "plt.axvline(x=beta_q5, linewidth=3, color='g',linestyle='--')\n",
    "plt.axvline(x=beta_q95, linewidth=3, color='g',linestyle='--')"
   ]
  },
  {
   "cell_type": "code",
   "execution_count": 43,
   "metadata": {},
   "outputs": [
    {
     "name": "stdout",
     "output_type": "stream",
     "text": [
      "Alpha error:  0.030929671872902655\n",
      "Beta error:  0.9959058477191364\n"
     ]
    }
   ],
   "source": [
    "print('Alpha error: ', np.mean(np.array(fitted_alphas) - alpha))\n",
    "print('Beta error: ', np.mean(np.array(fitted_betas) - beta))"
   ]
  },
  {
   "cell_type": "markdown",
   "metadata": {},
   "source": [
    "### Метод максимального правдоподобия\n"
   ]
  },
  {
   "cell_type": "markdown",
   "metadata": {},
   "source": [
    "MLE(Метод оценки параметров максимума правдоподобия) основывается на максимизации вероятности пронаблюдать выборку.\n",
    "\n",
    "$$\\mathcal{L} = \\prod p(x_i|\\theta)$$\n",
    "\n",
    "Будем рассматривать MLE на примере задачи выше.\n",
    "\n",
    "Уравнение правдоподобия чаще всего записывается с использованием логарифма вероятности, так как в этом случае произведение переходит в сумму, что сильно упрощает жизнь.\n",
    "\n",
    "$$\\mathcal{\\log L} = \\sum\\limits_i \\log p(x_i|\\theta)$$\n",
    "\n",
    "  * более хорошая численная стабильность(предотвращает overflow или underflow ошибки);\n",
    "  * более (относительно)точные градиенты;\n",
    "  * более гладкая задача(методы оптимизации лучше работают).\n",
    "\n",
    "Посмотрим на зависимость log-likelihood для задачи с нормальным распределением.\n",
    "\n",
    "$$\\mathcal{L} = \\prod\\limits_i \\frac{\\beta^\\alpha}{\\Gamma(\\alpha)} {x_i}^{\\alpha-1} \\exp(-\\beta x_i)$$\n",
    "\n",
    "$$\\mathcal{\\log L} = \\sum\\limits_i \\left(  \\alpha \\log \\beta - \\log \\Gamma(\\alpha) - \\beta x_i + (\\alpha - 1) \\log x_i \\right)$$\n",
    "\n",
    "(Обратим внимание насколько простой стала зависимость от $x_i$:)\n",
    "\n",
    "\n",
    "В большинстве задач, если это не игровые примеры, найти явную форму для оценки параметров с помощью MLE очень сложно.\n",
    "\n",
    "$$\\theta^* = \\arg \\max \\log \\mathcal{L}(X, \\theta)$$\n",
    "\n",
    "Берём первую производную по каждому параметра распределения и приравниваем к нулю:\n",
    "\n",
    "$$ \\mathcal{\\log L}'(X, \\theta) = 0$$\n",
    "\n",
    "Для параметра $\\beta$ гамма-распределения:\n",
    "\n",
    "$$\\mathcal{\\log L}'_\\beta = \\sum\\limits_{i} \\frac{\\alpha}{\\beta} - x_i = 0$$\n",
    "\n",
    "$$\\beta = \\frac{\\alpha N}{\\sum\\limits_i x_i}$$\n",
    "\n",
    "Для параметра $\\alpha$:\n",
    "\n",
    "$$\\mathcal{\\log L}'_\\alpha = \\sum \\log \\beta + \\log x_i - \\psi(\\alpha) = 0$$\n",
    "\n",
    "$$\\alpha = \\log \\beta + \\frac{1}{N} \\sum \\log x_i$$\n",
    "\n",
    "\n",
    "Итого:\n",
    "\n",
    "$$\\alpha = \\log \\beta + \\frac{1}{N} \\sum \\log x_i$$\n",
    "\n",
    "$$\\beta = \\frac{\\alpha N}{\\sum\\limits_i x_i}$$"
   ]
  },
  {
   "cell_type": "code",
   "execution_count": 44,
   "metadata": {},
   "outputs": [
    {
     "data": {
      "text/plain": [
       "Text(0.5, 1.0, 'Likelihood')"
      ]
     },
     "execution_count": 44,
     "metadata": {},
     "output_type": "execute_result"
    },
    {
     "data": {
      "image/png": "[encoded data removed]",
      "text/plain": [
       "<Figure size 432x288 with 1 Axes>"
      ]
     },
     "metadata": {
      "needs_background": "light"
     },
     "output_type": "display_data"
    }
   ],
   "source": [
    "a = np.linspace(0, 1, 200)\n",
    "plt.plot(\n",
    "    a, \n",
    "    np.prod(gamma.pdf(X[:, np.newaxis], \n",
    "                      scale=1 / beta, \n",
    "                      a=a), \n",
    "            axis=0)\n",
    ")\n",
    "plt.title('Likelihood')"
   ]
  },
  {
   "cell_type": "code",
   "execution_count": 45,
   "metadata": {},
   "outputs": [
    {
     "data": {
      "text/plain": [
       "Text(0.5, 1.0, 'Log-Likelihood')"
      ]
     },
     "execution_count": 45,
     "metadata": {},
     "output_type": "execute_result"
    },
    {
     "data": {
      "image/png": "[encoded data removed]",
      "text/plain": [
       "<Figure size 432x288 with 1 Axes>"
      ]
     },
     "metadata": {
      "needs_background": "light"
     },
     "output_type": "display_data"
    }
   ],
   "source": [
    "plt.plot(\n",
    "    a, \n",
    "    np.sum(\n",
    "        gamma.logpdf(\n",
    "            X[:, np.newaxis], \n",
    "            scale=1 / beta, \n",
    "            a=a\n",
    "        ), \n",
    "        axis=0\n",
    "    )\n",
    ")\n",
    "plt.title('Log-Likelihood')"
   ]
  },
  {
   "cell_type": "code",
   "execution_count": 46,
   "metadata": {},
   "outputs": [
    {
     "name": "stdout",
     "output_type": "stream",
     "text": [
      "0.24900266862933526 5.6614914089605985\n"
     ]
    }
   ],
   "source": [
    "alpha, _, beta = gamma.fit(X, floc=0.)\n",
    "beta = 1 / beta\n",
    "print(alpha, beta)"
   ]
  },
  {
   "cell_type": "markdown",
   "metadata": {},
   "source": [
    "Оценим параметры распределения с помощью ММП:"
   ]
  },
  {
   "cell_type": "code",
   "execution_count": 47,
   "metadata": {},
   "outputs": [
    {
     "name": "stdout",
     "output_type": "stream",
     "text": [
      "CPU times: user 13.9 s, sys: 133 ms, total: 14.1 s\n",
      "Wall time: 14.2 s\n"
     ]
    }
   ],
   "source": [
    "%%time\n",
    "boot = 100000\n",
    "alphas = []\n",
    "betas = []\n",
    "fitted_alphas = []\n",
    "fitted_betas = []\n",
    "for i in range(boot):\n",
    "    # your code here"
   ]
  },
  {
   "cell_type": "code",
   "execution_count": 48,
   "metadata": {},
   "outputs": [
    {
     "data": {
      "text/plain": [
       "<matplotlib.lines.Line2D at 0x12db3f490>"
      ]
     },
     "execution_count": 48,
     "metadata": {},
     "output_type": "execute_result"
    },
    {
     "data": {
      "image/png": "[encoded data removed]",
      "text/plain": [
       "<Figure size 432x288 with 1 Axes>"
      ]
     },
     "metadata": {
      "needs_background": "light"
     },
     "output_type": "display_data"
    }
   ],
   "source": [
    "plt.hist(fitted_alphas, bins=100);\n",
    "alpha_q5, alhpa_q95 = np.percentile(fitted_alphas, [5, 95])\n",
    "plt.axvline(x=alpha, linewidth=3, color='r',linestyle='--')\n",
    "plt.axvline(x=alpha_q5, linewidth=3, color='g',linestyle='--')\n",
    "plt.axvline(x=alhpa_q95, linewidth=3, color='g',linestyle='--')"
   ]
  },
  {
   "cell_type": "code",
   "execution_count": 49,
   "metadata": {},
   "outputs": [
    {
     "data": {
      "text/plain": [
       "0.004894821415294333"
      ]
     },
     "execution_count": 49,
     "metadata": {},
     "output_type": "execute_result"
    }
   ],
   "source": [
    "np.mean(np.array(fitted_alphas) - alpha)"
   ]
  },
  {
   "cell_type": "code",
   "execution_count": 50,
   "metadata": {},
   "outputs": [
    {
     "data": {
      "text/plain": [
       "<matplotlib.lines.Line2D at 0x131926bd0>"
      ]
     },
     "execution_count": 50,
     "metadata": {},
     "output_type": "execute_result"
    },
    {
     "data": {
      "image/png": "[encoded data removed]",
      "text/plain": [
       "<Figure size 432x288 with 1 Axes>"
      ]
     },
     "metadata": {
      "needs_background": "light"
     },
     "output_type": "display_data"
    }
   ],
   "source": [
    "plt.hist(fitted_betas, bins=100);\n",
    "beta_q5, beta_q95 = np.percentile(fitted_betas, [5, 95])\n",
    "plt.axvline(x=beta, linewidth=3, color='r',linestyle='--')\n",
    "plt.axvline(x=beta_q5, linewidth=3, color='g',linestyle='--')\n",
    "plt.axvline(x=beta_q95, linewidth=3, color='g',linestyle='--')"
   ]
  },
  {
   "cell_type": "code",
   "execution_count": 51,
   "metadata": {},
   "outputs": [
    {
     "name": "stdout",
     "output_type": "stream",
     "text": [
      "Alpha error:  0.004894821415294333\n",
      "Beta error:  0.3509035025433253\n"
     ]
    }
   ],
   "source": [
    "print('Alpha error: ', np.mean(np.array(fitted_alphas) - alpha))\n",
    "print('Beta error: ', np.mean(np.array(fitted_betas) - beta))"
   ]
  },
  {
   "cell_type": "markdown",
   "metadata": {},
   "source": [
    "### Бутстрап"
   ]
  },
  {
   "cell_type": "markdown",
   "metadata": {},
   "source": [
    "![https://towardsdatascience.com/an-introduction-to-the-bootstrap-method-58bcb51b4d60](https://miro.medium.com/max/700/1*iH5w0MBdiOlxDOCX6nmqqw.png)\n",
    "\n",
    "\n",
    "##### Оценки дисперсии функционалов\n",
    "\n",
    "Пусть есть выборка $X = \\{x_i\\}_{i=1}^{n}$, некоторый функционал $T_n(X)$ (например, среднее) и мы хотим оценить дисперсию $D_F(T_n)$. Не зная истинного распределения это можно сделать с помощью непараметрического или параметрического бутстрапа.\n",
    "\n",
    "В непараметрическом бутстрапе оценка дисперсии делается следующим образом:\n",
    "\n",
    "  1. Рэсемплим выборку с возвращением B раз: $X_1^*, X_2^*, X_B^* \\sim X$\n",
    "  2. Вычисляем $T_1^*, ..., T_B^*$\n",
    "  3. $$D_F(T_n) \\approx v_{boot} = \\frac{1}{B - 1} \\sum\\limits_{b=1}^B \\left(T_b^* - \\bar{T}^*  \\right)^2$$\n",
    "  "
   ]
  },
  {
   "cell_type": "markdown",
   "metadata": {},
   "source": [
    "Напишем свой код для оценки дисперсии с помощью бутстрэпа:"
   ]
  },
  {
   "cell_type": "code",
   "execution_count": null,
   "metadata": {},
   "outputs": [],
   "source": [
    "#your code here"
   ]
  },
  {
   "cell_type": "code",
   "execution_count": 53,
   "metadata": {},
   "outputs": [
    {
     "name": "stdout",
     "output_type": "stream",
     "text": [
      "Error in variance estimation: 0.0001745646458473308\n"
     ]
    }
   ],
   "source": [
    "print('Error in variance estimation:', np.std(X) / np.sqrt(len(X)) - np.std(T(Xb)))"
   ]
  },
  {
   "cell_type": "markdown",
   "metadata": {},
   "source": [
    "#### Доверительные интервалы на среднее \n",
    "\n",
    "\n",
    "В непараметрическом бутстрапе 95% доверительные интервалы считаются следующим образом:\n",
    "\n",
    "  1. Рэсемплим выборку с возвращением B раз: $X_1^*, X_2^*, X_B^* \\sim X$\n",
    "  2. Вычисляем $T_1^*, ..., T_B^*$\n",
    "  3. Интервал: [ Percentile($T_1^*, ..., T_B^*$, 2.5), Percentile($T_1^*, ..., T_B^*$, 97.5) ] \n",
    "  \n"
   ]
  },
  {
   "cell_type": "markdown",
   "metadata": {},
   "source": [
    "Напишем свой код для оценки доверительного интервала среднего:"
   ]
  },
  {
   "cell_type": "code",
   "execution_count": 55,
   "metadata": {},
   "outputs": [],
   "source": [
    "# your code here"
   ]
  },
  {
   "cell_type": "markdown",
   "metadata": {},
   "source": [
    "### Формула Байеса и MAP"
   ]
  },
  {
   "cell_type": "markdown",
   "metadata": {},
   "source": [
    "Пусть есть два события $A$ и $B$. Тогда условная вероятность вводится следующим образом(аксиоматически):\n",
    "\n",
    "$$p(A|B) = \\frac{p(A, B)}{p(B)}$$\n",
    "\n",
    "Которое показывает какая вероятность наступить событию $A$, если событие $B$ уже наступило. Если $p(A|B)=p(A)$, то говорят что событие $A$ не зависит от $B$. Формула Байеса выводится из формулы условной вероятности в два щелчка:\n",
    "\n",
    "$$p(A|B) = \\frac{p(A, B)}{p(B)} = \\frac{p(A) p(B|A)}{p(B)}$$\n",
    "\n",
    "Воспользуемся байесовским рассуждением. Предположим, что вы подбросили моменту один раз и у вас выпал орёл. Распределение описывается распредлением Бернулли: $p(x=1, q) = q$.\n",
    "\n",
    "Для выборки $x_1, x_2, \\dots, x_N$ правдоподобие записывается следующим образом:\n",
    "\n",
    "$$p(X, q) = \\prod q^{x_i} (1 - q)^{1-x_i}$$\n",
    "\n",
    "$$\\log p(X, q) = \\sum\\left[ x_i \\log q + (1 - x_i) \\log( - q) \\right]$$\n",
    "\n",
    "Тогда оценка на параметры высчитывается следующим образом:\n",
    "\n",
    "\n",
    "$$\\frac{\\partial }{\\partial q} \\log p(X, q) = \\frac{1}{q} \\sum x_i - \\frac{1}{1-q} \\sum (1 - x_i) = 0$$\n",
    "\n",
    "Получаем:\n",
    "\n",
    "$$q = \\frac{\\sum x_i}{n}$$\n",
    "\n",
    "В согласии с методом максимума правдоподобия следует, что $p=1$, т.е. следует что монетка всегда будет выпадать орлом.\n",
    "\n",
    "Такая оценка не очень хорошо согласуется с реальностью. Однако у вас есть некоторое априорное знание. Вы точно знаете, что честная монетка выпадает орлом в 50% случаев. Можем ли мы как-то это использовать? Да, это обеспечивается введением априорного распределения.\n",
    "\n",
    "В MLE оценка параметров выглядела так:\n",
    "\n",
    "$$\\theta = \\mathrm{argmax} \\log P(X | \\theta) = \\mathrm{argmax} \\sum \\log p(x_i, \\theta) $$\n",
    "\n",
    "\n",
    "В MAP мы говорим, что есть ещё распределение $P(\\theta)$, которое появляется из некоторых наших знаний о мире. Тогда MAP записывается следующим образом:\n",
    "\n",
    "$$\n",
    "\\theta = \\mathrm{argmax}  P(X | \\theta) P(\\theta) = \\mathrm{argmax} \\left( \\sum  \\log p(x_i, \\theta) \\right) P(\\theta)\n",
    "$$\n",
    "\n",
    "Вернёмся к монете.\n",
    "\n",
    "Априорное распределени моделируется бета-распределением у которого плотность вероятности выглядит так:\n",
    "\n",
    "![betapdf](https://wikimedia.org/api/rest_v1/media/math/render/svg/125fdaa41844a8703d1a8610ac00fbf3edacc8e7)\n",
    "\n",
    "![beta](https://upload.wikimedia.org/wikipedia/commons/thumb/f/f3/Beta_distribution_pdf.svg/531px-Beta_distribution_pdf.svg.png)\n",
    "\n",
    "В таком случае:\n",
    "\n",
    "$$p(X, q) p(q) = \\prod q^{x_i} (1 - q)^{1-x_i} \\frac{1}{B(\\alpha, \\beta)} q^{\\alpha - 1} (1 - q)^{\\beta - 1}$$\n",
    "\n",
    "Лог-вероятность:\n",
    "\n",
    "$$\\log p(X, q) p(q) = (\\alpha - 1) \\log q + (\\beta - 1) \\log (1 - q) +  \\sum\\left[ x_i \\log q + (1 - x_i) \\log( - q) \\right] $$\n",
    "\n",
    "Производная:\n",
    "\n",
    "\n",
    "$$\\frac{\\partial }{\\partial q} \\log p(X, q) p(q) = $$\n",
    "\n",
    "$$ = \\frac{1}{q} \\sum x_i - \\frac{1}{1-q} \\sum (1 - x_i) + \\frac{\\alpha - 1}{q} - \\frac{\\beta - 1}{1 - q} = 0$$\n",
    "\n",
    "\n",
    "Решая уравнение выше получаем:\n",
    "\n",
    "$$\\mu = \\frac{\\sum x_i + \\alpha - 1}{n + \\beta + \\alpha - 2}$$\n",
    "\n",
    "\n",
    "Пусть наш приор $\\alpha=\\beta=2$(см. картинку выше).\n",
    "\n",
    "Тогда при одном броске монеты получаем следующую оценку:\n",
    "\n",
    "$$q = \\frac{1 + 2 - 1}{1 + 2 + 2 - 2} = \\frac{2}{3} \\approx 0.66$$"
   ]
  }
 ],
 "metadata": {
  "kernelspec": {
   "display_name": "Python 3",
   "language": "python",
   "name": "python3"
  },
  "language_info": {
   "codemirror_mode": {
    "name": "ipython",
    "version": 3
   },
   "file_extension": ".py",
   "mimetype": "text/x-python",
   "name": "python",
   "nbconvert_exporter": "python",
   "pygments_lexer": "ipython3",
   "version": "3.7.6"
  }
 },
 "nbformat": 4,
 "nbformat_minor": 4
}
