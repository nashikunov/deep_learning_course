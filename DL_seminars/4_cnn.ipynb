{
 "cells": [
  {
   "cell_type": "markdown",
   "metadata": {
    "colab_type": "text",
    "id": "H8qiR1fW4V66"
   },
   "source": [
    "# Семинар 4: ` Keras` и сверточные нейронные сети\n",
    "\n",
    "На семинаре мы при помощи библиотеки `keras` обучим глубокую сверточную нейронную сеть."
   ]
  },
  {
   "cell_type": "markdown",
   "metadata": {
    "colab_type": "text",
    "id": "2TlKzA9s7NxX"
   },
   "source": [
    "Библиотека `keras` — надстройка над фреймворками [Tensorflow](https://www.tensorflow.org/), [Theano](http://deeplearning.net/software/theano/), [CNTK](https://docs.microsoft.com/en-us/cognitive-toolkit/). Можно использовать в качестве бэкенда любой из этих фреймворков, и код будет исполняться независмо от выбранного бэкенда. По умолчанию `keras` работает с `tensorflow`."
   ]
  },
  {
   "cell_type": "code",
   "execution_count": 1,
   "metadata": {
    "colab": {},
    "colab_type": "code",
    "collapsed": false,
    "id": "eeuAxwCYEstl",
    "jupyter": {
     "outputs_hidden": false
    }
   },
   "outputs": [
    {
     "name": "stderr",
     "output_type": "stream",
     "text": [
      "Using TensorFlow backend.\n"
     ]
    },
    {
     "data": {
      "text/plain": [
       "'tensorflow'"
      ]
     },
     "execution_count": 1,
     "metadata": {},
     "output_type": "execute_result"
    }
   ],
   "source": [
    "import keras\n",
    "keras.backend.backend()"
   ]
  },
  {
   "cell_type": "code",
   "execution_count": 2,
   "metadata": {
    "colab": {},
    "colab_type": "code",
    "collapsed": false,
    "id": "WzkOOpbgFSM_",
    "jupyter": {
     "outputs_hidden": false
    }
   },
   "outputs": [
    {
     "name": "stderr",
     "output_type": "stream",
     "text": [
      "WARNING: Logging before flag parsing goes to stderr.\n",
      "W1010 10:00:24.830694 4607272384 deprecation_wrapper.py:119] From /Users/nikolaysafonov/anaconda3/lib/python3.7/site-packages/keras/backend/tensorflow_backend.py:541: The name tf.placeholder is deprecated. Please use tf.compat.v1.placeholder instead.\n",
      "\n",
      "W1010 10:00:24.850632 4607272384 deprecation.py:506] From /Users/nikolaysafonov/anaconda3/lib/python3.7/site-packages/keras/backend/tensorflow_backend.py:909: calling RandomUniform.__init__ (from tensorflow.python.ops.init_ops) with dtype is deprecated and will be removed in a future version.\n",
      "Instructions for updating:\n",
      "Call initializer instance with the dtype argument instead of passing it to the constructor\n",
      "W1010 10:00:24.858397 4607272384 deprecation.py:506] From /Users/nikolaysafonov/anaconda3/lib/python3.7/site-packages/keras/backend/tensorflow_backend.py:947: calling RandomNormal.__init__ (from tensorflow.python.ops.init_ops) with dtype is deprecated and will be removed in a future version.\n",
      "Instructions for updating:\n",
      "Call initializer instance with the dtype argument instead of passing it to the constructor\n",
      "W1010 10:00:24.876085 4607272384 deprecation_wrapper.py:119] From /Users/nikolaysafonov/anaconda3/lib/python3.7/site-packages/keras/backend/tensorflow_backend.py:190: The name tf.get_default_session is deprecated. Please use tf.compat.v1.get_default_session instead.\n",
      "\n",
      "W1010 10:00:24.877030 4607272384 deprecation_wrapper.py:119] From /Users/nikolaysafonov/anaconda3/lib/python3.7/site-packages/keras/backend/tensorflow_backend.py:197: The name tf.ConfigProto is deprecated. Please use tf.compat.v1.ConfigProto instead.\n",
      "\n",
      "W1010 10:00:24.877492 4607272384 deprecation_wrapper.py:119] From /Users/nikolaysafonov/anaconda3/lib/python3.7/site-packages/keras/backend/tensorflow_backend.py:203: The name tf.Session is deprecated. Please use tf.compat.v1.Session instead.\n",
      "\n",
      "W1010 10:00:24.878980 4607272384 deprecation_wrapper.py:119] From /Users/nikolaysafonov/anaconda3/lib/python3.7/site-packages/keras/backend/tensorflow_backend.py:207: The name tf.global_variables is deprecated. Please use tf.compat.v1.global_variables instead.\n",
      "\n"
     ]
    },
    {
     "name": "stdout",
     "output_type": "stream",
     "text": [
      "Tensor(\"MatMul:0\", shape=(4, 4), dtype=float32) \n",
      "\n",
      "c: \n",
      " [[-0.37002167  0.04897787  0.08928972 -0.7409292 ]\n",
      " [ 0.37029624  0.704786    0.9963622   0.79863757]\n",
      " [ 0.36825323  0.59368545  0.96256375  0.8133369 ]\n",
      " [ 2.660395    0.9685937   1.8963321   2.833429  ]]\n",
      "d: \n",
      " [1.7628669 1.1991748 1.8839374 2.392321 ]\n",
      "b: \n",
      " [[ 2.0866394e-03  6.1146975e-02  8.4478426e-01  1.6374612e-01\n",
      "   6.9110286e-01 -3.7002167e-01  4.8977870e-02  8.9289725e-02\n",
      "  -7.4092919e-01]\n",
      " [ 4.5836103e-01  1.3486421e-01  2.2664106e-01  2.5504613e-01\n",
      "   1.2426233e-01  3.7029624e-01  7.0478600e-01  9.9636221e-01\n",
      "   7.9863757e-01]\n",
      " [ 6.4175224e-01  4.3948460e-01  5.3097546e-01  1.1450684e-01\n",
      "   1.5721822e-01  3.6825323e-01  5.9368545e-01  9.6256375e-01\n",
      "   8.1333691e-01]\n",
      " [ 3.6559916e-01  5.9186685e-01  4.7882164e-01  3.5010099e-02\n",
      "   9.2102325e-01  2.6603949e+00  9.6859372e-01  1.8963321e+00\n",
      "   2.8334291e+00]]\n"
     ]
    }
   ],
   "source": [
    "import tensorflow as tf\n",
    "from keras import backend as K\n",
    "\n",
    "# соответствует tf.placeholder() или th.tensor.matrix(), th.tensor.tensor3(), и т. д. в зависимости от бэкенда\n",
    "inputs = K.placeholder(shape=(2, 4, 5))\n",
    "inputs = K.placeholder(shape=(None, 4, 5))\n",
    "inputs = K.placeholder(ndim=3)\n",
    "\n",
    "# делать операции над тензорами можно как мы привыкли с tensorflow\n",
    "b = K.random_uniform_variable(shape=(4, 5), low=0, high=1)\n",
    "c = K.random_normal_variable(shape=(4, 5), mean=0, scale=1)\n",
    "\n",
    "a = b + c * K.abs(b)\n",
    "c = K.dot(a, K.transpose(b))\n",
    "d = K.sum(b, axis=1)\n",
    "b = K.concatenate([b, c], axis=-1)\n",
    "\n",
    "# в результате операций над тензорами получили неинициализированный тензор, как и для tensorflow\n",
    "print(c, \"\\n\")\n",
    "\n",
    "# а теперь посчитаем, чему будут равны тензоры для конкретных входных данных\n",
    "print(\"c: \\n\", K.eval(c))\n",
    "print(\"d: \\n\", K.eval(d))\n",
    "print(\"b: \\n\", K.eval(b))\n",
    "\n",
    "K.clear_session()"
   ]
  },
  {
   "cell_type": "markdown",
   "metadata": {
    "colab_type": "text",
    "id": "t651plf_SDfB"
   },
   "source": [
    "# Keras Sequential API\n",
    "Основная структура данных в `Keras` —  это  `model`, способ организовать слои в нейронной сети. Простейший способ создать модель — использовать `Sequential()`. Такая модель представляет из себя стек слоев, идущих последовательно друг за другом, именно такой моделью мы и будем сегодня пользоваться для обучения сверточной нейронной сети."
   ]
  },
  {
   "cell_type": "code",
   "execution_count": 3,
   "metadata": {
    "colab": {},
    "colab_type": "code",
    "id": "8Be6HwRHbN9b"
   },
   "outputs": [
    {
     "name": "stderr",
     "output_type": "stream",
     "text": [
      "W1010 10:00:25.810153 4607272384 deprecation.py:506] From /Users/nikolaysafonov/anaconda3/lib/python3.7/site-packages/tensorflow/python/ops/init_ops.py:1251: calling VarianceScaling.__init__ (from tensorflow.python.ops.init_ops) with dtype is deprecated and will be removed in a future version.\n",
      "Instructions for updating:\n",
      "Call initializer instance with the dtype argument instead of passing it to the constructor\n"
     ]
    },
    {
     "data": {
      "text/plain": [
       "<tensorflow.python.keras.callbacks.History at 0x62d2970b8>"
      ]
     },
     "execution_count": 3,
     "metadata": {},
     "output_type": "execute_result"
    }
   ],
   "source": [
    "from tensorflow.keras.layers import Dense\n",
    "from tensorflow.keras.models import Sequential\n",
    "from tensorflow.keras.utils import to_categorical\n",
    "\n",
    "model = Sequential()\n",
    "\n",
    "# для первого слоя  в последовательности нужно указать размерности входных данных\n",
    "# для других слоев делать это уже не нужно\n",
    "model.add(Dense(32, activation='relu', input_dim=100))\n",
    "model.add(Dense(20, activation='relu'))\n",
    "model.add(Dense(10, activation='softmax'))\n",
    "\n",
    "# компилируем модель, определяем функцию потерь, метрику качества, метод оптимизации\n",
    "model.compile(optimizer='rmsprop',\n",
    "              loss='categorical_crossentropy',\n",
    "              metrics=['accuracy'])\n",
    "\n",
    "import numpy as np\n",
    "data = np.random.random((1000, 100))\n",
    "labels = np.random.randint(10, size=(1000, 1))\n",
    "\n",
    "one_hot_labels = to_categorical(labels, num_classes=10)\n",
    "\n",
    "# обучаем модель, указываем количество шагов градиентного спуска, размер батча\n",
    "model.fit(data, one_hot_labels, epochs=10, batch_size=32, verbose=0)"
   ]
  },
  {
   "cell_type": "markdown",
   "metadata": {
    "colab_type": "text",
    "id": "_dIPr0B3dVxs"
   },
   "source": [
    "# Keras Callbacks\n",
    "Callbacks — это набор функций, которые можно передать в процедуру обучения модели. Можно использовать колбэки, чтобы следить за метриками во время обучения, что может быть полезно для дебага, сохранять модель и так далее. Список колбэков передается в `.fit()`, релевантные колбэки вызываются на каждой итерации обучения.\n",
    "\n",
    "В `keras` реализовано [много полезных колбэков](https://keras.io/callbacks/), так же есть возможность писать кастомные."
   ]
  },
  {
   "cell_type": "code",
   "execution_count": 4,
   "metadata": {
    "colab": {},
    "colab_type": "code",
    "id": "t8Bsuv4ZhuDm"
   },
   "outputs": [
    {
     "name": "stdout",
     "output_type": "stream",
     "text": [
      "Epoch:  0\n",
      "[2.2209103, 2.201158, 2.2108128, 2.2268643, 2.2138684]\n",
      "Epoch:  1\n",
      "[2.1980848, 2.1907558, 2.18807, 2.234165, 2.220697]\n",
      "Epoch:  2\n",
      "[2.19648, 2.1940253, 2.2007678, 2.2189772, 2.219235]\n",
      "Epoch:  3\n",
      "[2.2015107, 2.200596, 2.1877263, 2.2227175, 2.1900225]\n",
      "Epoch:  4\n",
      "[2.1940415, 2.2101958, 2.174607, 2.2262387, 2.1873236]\n",
      "Epoch:  5\n",
      "[2.201504, 2.220502, 2.1740952, 2.2014108, 2.1749105]\n",
      "Epoch:  6\n",
      "[2.1540222, 2.1729105, 2.2338324, 2.2035444, 2.1989124]\n",
      "Epoch:  7\n",
      "[2.2059782, 2.2005863, 2.1893096, 2.143994, 2.205736]\n",
      "Epoch:  8\n",
      "[2.1758134, 2.1926632, 2.1360102, 2.217845, 2.1941144]\n",
      "Epoch:  9\n",
      "[2.1524372, 2.2123795, 2.1746013, 2.17888, 2.1856406]\n"
     ]
    },
    {
     "data": {
      "text/plain": [
       "<tensorflow.python.keras.callbacks.History at 0x62d413f98>"
      ]
     },
     "execution_count": 4,
     "metadata": {},
     "output_type": "execute_result"
    }
   ],
   "source": [
    "# определим кастомный колбэк, который выводит функции потерь для каждого батча на каждой итерации\n",
    "class LossHistory(keras.callbacks.Callback):        \n",
    "    def on_epoch_begin(self, epoch, logs={}):\n",
    "        # в self.losses будем хранить искомый список функций потерь для батчей, надо его инициализировать\n",
    "        # еще можно вывести номер итерации\n",
    "        self.losses = []\n",
    "        print(\"Epoch: \", epoch)\n",
    "        ### YOUR CODE HERE\n",
    "        \n",
    "    def on_epoch_end(self, epoch, logs={}):\n",
    "        # выполнили один шаг градиентного спуска, самое время вывести вычисленные функции потерь\n",
    "        ### YOUR CODE HERE \n",
    "        print(self.losses)\n",
    "\n",
    "    def on_batch_end(self, batch, logs={}):\n",
    "        # закончили обрабатывать батч, надо сохранить лосс, он лежит в logs.get('loss')\n",
    "        ### YOUR CODE HERE \n",
    "        self.losses.append(logs.get(\"loss\"))\n",
    "\n",
    "\n",
    "history = LossHistory()\n",
    "model.fit(data,\n",
    "          one_hot_labels,\n",
    "          epochs=10,\n",
    "          batch_size=200,\n",
    "          verbose=0,\n",
    "          callbacks=[keras.callbacks.EarlyStopping(monitor='loss'), # добавим еще EarlyStopping, реализованный в keras\n",
    "                     history]\n",
    "         )"
   ]
  },
  {
   "cell_type": "markdown",
   "metadata": {
    "colab_type": "text",
    "id": "oq_W8bZckif9"
   },
   "source": [
    "# Сверточная нейронная сеть для CIFAR-10\n",
    "\n",
    "Датасет CIFAR-10 содержит цветные картинки 32x32, каждая из которых принадлежит одному из 10 классов: __airplane, automobile, bird, cat, deer, dog, frog, horse, ship, truck__\n",
    "\n",
    "В задании нужно будет:\n",
    "* Определить архитектуру CNN\n",
    "* Обучить модель\n",
    "* Визуализировать обученные фильтры\n"
   ]
  },
  {
   "cell_type": "markdown",
   "metadata": {
    "colab_type": "text",
    "id": "y-nuNBH9m3ls"
   },
   "source": [
    "**ОБРАТИТЕ ВНИМАНИЕ:** обучение CNN на CPU для этого задания может занимать достаточно много времени, 0.5-1.5 часа, поэтому будем обучать модель на GPU\n",
    "\n",
    "**Runtime -> Change runtime type** и выберите **GPU** в Google Colab\n"
   ]
  },
  {
   "cell_type": "code",
   "execution_count": 5,
   "metadata": {
    "colab": {},
    "colab_type": "code",
    "id": "_u4Rwpd8fBIv"
   },
   "outputs": [
    {
     "name": "stdout",
     "output_type": "stream",
     "text": [
      "1.14.0\n",
      "2.2.5\n"
     ]
    }
   ],
   "source": [
    "import tensorflow as tf\n",
    "import keras\n",
    "from keras import backend as K\n",
    "import numpy as np\n",
    "%matplotlib inline\n",
    "import matplotlib.pyplot as plt\n",
    "print(tf.__version__)\n",
    "print(keras.__version__)"
   ]
  },
  {
   "cell_type": "code",
   "execution_count": 6,
   "metadata": {
    "colab": {},
    "colab_type": "code",
    "id": "DZtgoH5VfBI0"
   },
   "outputs": [],
   "source": [
    "# чистим сессию, чтобы не получить out-of-memory\n",
    "def reset_tf_session():\n",
    "    curr_session = tf.get_default_session()\n",
    "    if curr_session is not None:\n",
    "        curr_session.close()\n",
    "    K.clear_session()\n",
    "    config = tf.ConfigProto()\n",
    "    config.gpu_options.allow_growth = True\n",
    "    s = tf.InteractiveSession(config=config)\n",
    "    K.set_session(s)\n",
    "    return s"
   ]
  },
  {
   "cell_type": "markdown",
   "metadata": {
    "colab_type": "text",
    "id": "4X4OxWejnj46"
   },
   "source": [
    "# Загрузка датасета"
   ]
  },
  {
   "cell_type": "code",
   "execution_count": 7,
   "metadata": {
    "colab": {},
    "colab_type": "code",
    "id": "Vs5Mo1mCfBI3"
   },
   "outputs": [
    {
     "name": "stdout",
     "output_type": "stream",
     "text": [
      "Downloading data from https://www.cs.toronto.edu/~kriz/cifar-10-python.tar.gz\n",
      "170500096/170498071 [==============================] - 531s 3us/step\n"
     ]
    }
   ],
   "source": [
    "from keras.datasets import cifar10\n",
    "(x_train, y_train), (x_test, y_test) = cifar10.load_data()"
   ]
  },
  {
   "cell_type": "code",
   "execution_count": 8,
   "metadata": {
    "colab": {},
    "colab_type": "code",
    "id": "w71tZ9tEfBI6"
   },
   "outputs": [
    {
     "name": "stdout",
     "output_type": "stream",
     "text": [
      "Train samples: (50000, 32, 32, 3) (50000, 1)\n",
      "Test samples: (10000, 32, 32, 3) (10000, 1)\n"
     ]
    }
   ],
   "source": [
    "print(\"Train samples:\", x_train.shape, y_train.shape)\n",
    "print(\"Test samples:\", x_test.shape, y_test.shape)"
   ]
  },
  {
   "cell_type": "code",
   "execution_count": 9,
   "metadata": {
    "colab": {},
    "colab_type": "code",
    "id": "ka43TeITfBI9"
   },
   "outputs": [],
   "source": [
    "NUM_CLASSES = 10\n",
    "cifar10_classes = [\"airplane\", \"automobile\", \"bird\", \"cat\", \"deer\", \n",
    "                   \"dog\", \"frog\", \"horse\", \"ship\", \"truck\"]"
   ]
  },
  {
   "cell_type": "code",
   "execution_count": 10,
   "metadata": {
    "colab": {},
    "colab_type": "code",
    "id": "1SIWT_T6fBJA"
   },
   "outputs": [
    {
     "data": {
      "image/png": "[encoded data removed]",
      "text/plain": [
       "<Figure size 1080x288 with 16 Axes>"
      ]
     },
     "metadata": {
      "needs_background": "light"
     },
     "output_type": "display_data"
    }
   ],
   "source": [
    "# посмотрим на случайные картинки из датасета\n",
    "cols = 8\n",
    "rows = 2\n",
    "fig = plt.figure(figsize=(2 * cols - 1, 2.5 * rows - 1))\n",
    "for i in range(cols):\n",
    "    for j in range(rows):\n",
    "        random_index = np.random.randint(0, len(y_train))\n",
    "        ax = fig.add_subplot(rows, cols, i * rows + j + 1)\n",
    "        ax.grid(False)\n",
    "        ax.axis('off')\n",
    "        ax.imshow(x_train[random_index, :])\n",
    "        ax.set_title(cifar10_classes[y_train[random_index, 0]])\n",
    "plt.show()"
   ]
  },
  {
   "cell_type": "markdown",
   "metadata": {
    "colab_type": "text",
    "id": "PvM_vzk6ntxw"
   },
   "source": [
    "# Нормализация данных\n",
    "Как мы знаем, нейронные сети любят, когда входные данные нормализованы, нормализуем их: $$x_{norm} = \\frac{x}{255} - 0.5$$\n",
    "\n",
    "Так же нужно преобразовать классы в one-hot encoded векторы с помощью __keras.utils.to_categorical__."
   ]
  },
  {
   "cell_type": "code",
   "execution_count": 11,
   "metadata": {
    "colab": {},
    "colab_type": "code",
    "id": "FSvuvnTyfBJC"
   },
   "outputs": [],
   "source": [
    "# нормализуем входные данные\n",
    "x_train2 = x_train / 255 - 0.5\n",
    "x_test2 = x_test / 255 - 0.5\n",
    "\n",
    "# преобразуем метки классов в one-hot encoded векторы, должно получиться(?, NUM_CLASSES)\n",
    "y_train2 = keras.utils.to_categorical(y_train, 10)\n",
    "y_test2 = keras.utils.to_categorical(y_test, 10)"
   ]
  },
  {
   "cell_type": "markdown",
   "metadata": {
    "colab_type": "text",
    "id": "cLK8CZPnopbV"
   },
   "source": [
    "# Архитектура CNN"
   ]
  },
  {
   "cell_type": "code",
   "execution_count": 12,
   "metadata": {
    "colab": {},
    "colab_type": "code",
    "id": "4__6vztrfBJF"
   },
   "outputs": [],
   "source": [
    "from keras.models import Sequential\n",
    "from keras.layers import Conv2D, MaxPooling2D, Flatten, Dense, Activation, Dropout\n",
    "from keras.layers.advanced_activations import LeakyReLU"
   ]
  },
  {
   "cell_type": "markdown",
   "metadata": {
    "colab_type": "text",
    "id": "C2zEKlLkpNCH"
   },
   "source": [
    "Сверточные нейронные сети строятся из нескольких типов слоев:\n",
    "- [Conv2D](https://keras.io/layers/convolutional/#conv2d) - свертка:\n",
    "    - **filters**: количество выходных каналов; \n",
    "    - **kernel_size**: ширина и высота окна для свертки, tuple/list из двух целых чисел;\n",
    "    - **padding**: padding=\"same\" добавляет столько нулей, чтобы выходной канал имел такие же размеры, как и вход, при padding='valid' свертка выполняется только там, где ядро свертки полностью пересекается с входным каналом;\n",
    "    - **activation**: \"relu\", \"tanh\", и т.д.\n",
    "    - **input_shape**: размерности входных данных.\n",
    "- [MaxPooling2D](https://keras.io/layers/pooling/#maxpooling2d) - выполняет 2D max pooling.\n",
    "- [Flatten](https://keras.io/layers/core/#flatten) - не затрагивает размерность,  соответствующую размеру батча.\n",
    "- [Dense](https://keras.io/layers/core/#dense) - полносвязный слой.\n",
    "- [Activation](https://keras.io/layers/core/#activation) - применяет функцию активации.\n",
    "- [LeakyReLU](https://keras.io/layers/advanced-activations/#leakyrelu) - применяет функцию активации leaky relu.\n",
    "- [Dropout](https://keras.io/layers/core/#dropout) - применяет dropout."
   ]
  },
  {
   "cell_type": "markdown",
   "metadata": {
    "colab_type": "text",
    "id": "obhlpRpBsL1t"
   },
   "source": [
    "Размерность входных данных для модели __(None, 32, 32, 3)__ , размерность выходных __(None, 10)__ . __None__ соответствует размерности размера батча.\n",
    "\n",
    "Шаблон модели:\n",
    "\n",
    "```python\n",
    "model = Sequential() \n",
    "model.add(Conv2D(..., input_shape=(32, 32, 3)))  # не забываем определить размерность входа для первого слоя\n",
    "\n",
    "...  # сверточные слои, пулинг, дропаут\n",
    "\n",
    "model.add(Dense(NUM_CLASSES))  \n",
    "model.add(Activation(\"softmax\"))\n",
    "```"
   ]
  },
  {
   "cell_type": "code",
   "execution_count": 27,
   "metadata": {
    "colab": {},
    "colab_type": "code",
    "id": "_16Uh2L-fBJH"
   },
   "outputs": [],
   "source": [
    "def make_model():\n",
    "    \"\"\"\n",
    "    Define your model architecture here.\n",
    "    Returns `Sequential` model.\n",
    "    \"\"\"\n",
    "\n",
    "    \n",
    "    model = Sequential()\n",
    "    model.add(Conv2D(input_shape=(32, 32, 3), kernel_size=(5, 5), padding='same', filters=20))\n",
    "    model.add(LeakyReLU(0.1))\n",
    "    \n",
    "    model.add(Conv2D(kernel_size=(3, 3), padding='same', filters=20))\n",
    "    model.add(LeakyReLU(0.1))\n",
    "    model.add(MaxPooling2D(pool_size=(2,2)))\n",
    "    model.add(Flatten())\n",
    "    model.add(Dense(100))\n",
    "    model.add(LeakyReLU(0.1))\n",
    "    model.add(Dense(10))\n",
    "    model.add(Activation(\"softmax\"))\n",
    "    \n",
    "    return model\n"
   ]
  },
  {
   "cell_type": "code",
   "execution_count": 28,
   "metadata": {
    "colab": {},
    "colab_type": "code",
    "id": "sAny7mzafBJL"
   },
   "outputs": [
    {
     "name": "stderr",
     "output_type": "stream",
     "text": [
      "W1010 10:16:12.160406 4607272384 deprecation_wrapper.py:119] From /Users/nikolaysafonov/anaconda3/lib/python3.7/site-packages/keras/backend/tensorflow_backend.py:4267: The name tf.nn.max_pool is deprecated. Please use tf.nn.max_pool2d instead.\n",
      "\n"
     ]
    },
    {
     "name": "stdout",
     "output_type": "stream",
     "text": [
      "Model: \"sequential_1\"\n",
      "_________________________________________________________________\n",
      "Layer (type)                 Output Shape              Param #   \n",
      "=================================================================\n",
      "conv2d_1 (Conv2D)            (None, 32, 32, 20)        1520      \n",
      "_________________________________________________________________\n",
      "leaky_re_lu_1 (LeakyReLU)    (None, 32, 32, 20)        0         \n",
      "_________________________________________________________________\n",
      "conv2d_2 (Conv2D)            (None, 32, 32, 20)        3620      \n",
      "_________________________________________________________________\n",
      "leaky_re_lu_2 (LeakyReLU)    (None, 32, 32, 20)        0         \n",
      "_________________________________________________________________\n",
      "max_pooling2d_1 (MaxPooling2 (None, 16, 16, 20)        0         \n",
      "_________________________________________________________________\n",
      "flatten_1 (Flatten)          (None, 5120)              0         \n",
      "_________________________________________________________________\n",
      "dense_1 (Dense)              (None, 100)               512100    \n",
      "_________________________________________________________________\n",
      "leaky_re_lu_3 (LeakyReLU)    (None, 100)               0         \n",
      "_________________________________________________________________\n",
      "dense_2 (Dense)              (None, 10)                1010      \n",
      "_________________________________________________________________\n",
      "activation_1 (Activation)    (None, 10)                0         \n",
      "=================================================================\n",
      "Total params: 518,250\n",
      "Trainable params: 518,250\n",
      "Non-trainable params: 0\n",
      "_________________________________________________________________\n"
     ]
    }
   ],
   "source": [
    "s = reset_tf_session()\n",
    "model = make_model()\n",
    "model.summary()"
   ]
  },
  {
   "cell_type": "markdown",
   "metadata": {
    "colab_type": "text",
    "id": "ao3gB8izLUDI"
   },
   "source": [
    "# Обучение модели\n",
    "\n",
    "На GPU 10-20 секунд на эпоху.\n",
    "Добавим в обучение уменьшение learning rate с номером эпохи при помощи callback"
   ]
  },
  {
   "cell_type": "code",
   "execution_count": null,
   "metadata": {
    "colab": {},
    "colab_type": "code",
    "collapsed": true,
    "id": "h78soVObfBJQ",
    "jupyter": {
     "outputs_hidden": true
    }
   },
   "outputs": [],
   "source": [
    "INIT_LR = 5e-3  # стартовый learning rate\n",
    "BATCH_SIZE = 32\n",
    "EPOCHS = 10\n",
    "\n",
    "s = reset_tf_session()\n",
    "\n",
    "model = make_model()\n",
    "\n",
    "# определите функцию потреть, метод оптимизации и метрику качества\n",
    "### YOUR CODE HERE\n",
    "\n",
    "# формула, по которой будет меняться learning rate в зависимости от эпохи, передадим ее в LearningRateScheduler callback\n",
    "def lr_scheduler(epoch):\n",
    "    return INIT_LR * 0.9 ** epoch\n",
    "\n",
    "# будем выводить актуальный learning rate в начале каждой итерации (on_epoch_begin)\n",
    "# для этого нужно написать кастомный callback\n",
    "class LrHistory(keras.callbacks.Callback):\n",
    "    ### YOUR CODE HERE\n"
   ]
  },
  {
   "cell_type": "code",
   "execution_count": null,
   "metadata": {
    "colab": {},
    "colab_type": "code",
    "collapsed": true,
    "id": "yIklukijfBJS",
    "jupyter": {
     "outputs_hidden": true
    }
   },
   "outputs": [],
   "source": [
    "# обучаем модель\n",
    "model.fit(\n",
    "    x_train2, y_train2,\n",
    "    batch_size=BATCH_SIZE,\n",
    "    epochs=EPOCHS,\n",
    "    callbacks=[keras.callbacks.LearningRateScheduler(lr_scheduler), \n",
    "               LrHistory(),],\n",
    "    validation_data=(x_test2, y_test2),\n",
    "    shuffle=True,\n",
    "    verbose=1,\n",
    "    initial_epoch=0    \n",
    ")"
   ]
  },
  {
   "cell_type": "code",
   "execution_count": null,
   "metadata": {
    "colab": {},
    "colab_type": "code",
    "collapsed": true,
    "id": "TK_eOCmpfBJW",
    "jupyter": {
     "outputs_hidden": true
    }
   },
   "outputs": [],
   "source": [
    "# сохраняем веса модели\n",
    "model.save_weights(\"weights.h5\")"
   ]
  },
  {
   "cell_type": "code",
   "execution_count": null,
   "metadata": {
    "colab": {},
    "colab_type": "code",
    "collapsed": true,
    "id": "bKFb-mgxfBJa",
    "jupyter": {
     "outputs_hidden": true
    }
   },
   "outputs": [],
   "source": [
    "# загружаем веса (можно не вызывать model.fit, если модель была однажды обучена и веса сохранены)\n",
    "model.load_weights(\"weights.h5\")"
   ]
  },
  {
   "cell_type": "markdown",
   "metadata": {
    "colab_type": "text",
    "id": "BzGTGsmANKi1"
   },
   "source": [
    "# Применение модели"
   ]
  },
  {
   "cell_type": "code",
   "execution_count": null,
   "metadata": {
    "colab": {},
    "colab_type": "code",
    "collapsed": true,
    "id": "2H6PmfL_fBJd",
    "jupyter": {
     "outputs_hidden": true
    }
   },
   "outputs": [],
   "source": [
    "# вычисляем прогноз для тестовых данных\n",
    "y_pred_test = model.predict_proba(x_test2)\n",
    "y_pred_test_classes = np.argmax(y_pred_test, axis=1)\n",
    "y_pred_test_max_probas = np.max(y_pred_test, axis=1)"
   ]
  },
  {
   "cell_type": "code",
   "execution_count": null,
   "metadata": {
    "colab": {},
    "colab_type": "code",
    "collapsed": true,
    "id": "REz2iK6LfBJh",
    "jupyter": {
     "outputs_hidden": true
    }
   },
   "outputs": [],
   "source": [
    "# матрица ошибок и точность\n",
    "from sklearn.metrics import confusion_matrix, accuracy_score\n",
    "plt.figure(figsize=(7, 6))\n",
    "plt.title('Confusion matrix', fontsize=16)\n",
    "plt.imshow(confusion_matrix(y_test, y_pred_test_classes))\n",
    "plt.xticks(np.arange(10), cifar10_classes, rotation=45, fontsize=12)\n",
    "plt.yticks(np.arange(10), cifar10_classes, fontsize=12)\n",
    "plt.colorbar()\n",
    "plt.show()\n",
    "print(\"Test accuracy:\", accuracy_score(y_test, y_pred_test_classes))"
   ]
  },
  {
   "cell_type": "code",
   "execution_count": null,
   "metadata": {
    "colab": {},
    "colab_type": "code",
    "collapsed": true,
    "id": "-d7wvTVUfBJj",
    "jupyter": {
     "outputs_hidden": true
    }
   },
   "outputs": [],
   "source": [
    "# посмотрим на предсказания\n",
    "cols = 8\n",
    "rows = 2\n",
    "fig = plt.figure(figsize=(2 * cols - 1, 3 * rows - 1))\n",
    "for i in range(cols):\n",
    "    for j in range(rows):\n",
    "        random_index = np.random.randint(0, len(y_test))\n",
    "        ax = fig.add_subplot(rows, cols, i * rows + j + 1)\n",
    "        ax.grid(False)\n",
    "        ax.axis(\"off\")\n",
    "        ax.imshow(x_test[random_index, :])\n",
    "        pred_label = cifar10_classes[y_pred_test_classes[random_index]]\n",
    "        pred_proba = y_pred_test_max_probas[random_index]\n",
    "        true_label = cifar10_classes[y_test[random_index, 0]]\n",
    "        ax.set_title(\"pred: {}\\nscore: {:.3}\\ntrue: {}\".format(\n",
    "               pred_label, pred_proba, true_label\n",
    "        ))\n",
    "plt.show()"
   ]
  },
  {
   "cell_type": "markdown",
   "metadata": {
    "colab_type": "text",
    "id": "BtpSzXimNrm8"
   },
   "source": [
    "# Визуализация фильтров\n",
    "\n",
    "Мы хотим найти входные изображения, максимизирующие активации для заданного слоя нейронной сети.\n",
    "\n",
    "Задача очень похожа на задачу обучения весов для нейронной сети: при обучении весов нам нужно найти веса, минимизирующие функцию потерь, для данного входного изображения. Решаем эту задачу градиентным спуском, ищем градиент функции потерь по весам.\n",
    "\n",
    "Теперь мы хотим найти входное изображение, максимизирующее среднее значение активации на заданном слое\n",
    "$$Loss(layer) = Mean(layer) = \\frac{1}{|layer|}\\sum_{x \\in layer}x \\rightarrow \\max    $$\n",
    "\n",
    "Задачи максимизации решаются аналогично задачам минимизации с помощью градиентного подъема\n",
    "\n",
    "$$image_{t+1} = Image_t + \\gamma\\frac{\\partial  Loss}{\\partial   Image_t}$$\n"
   ]
  },
  {
   "cell_type": "code",
   "execution_count": null,
   "metadata": {
    "colab": {},
    "colab_type": "code",
    "collapsed": true,
    "id": "pFqITQfCfBJp",
    "jupyter": {
     "outputs_hidden": true
    }
   },
   "outputs": [],
   "source": [
    "s = reset_tf_session()\n",
    "K.set_learning_phase(0)\n",
    "model = make_model()\n",
    "model.load_weights(\"weights.h5\")  # веса сохранены после обучения model.fit"
   ]
  },
  {
   "cell_type": "code",
   "execution_count": null,
   "metadata": {
    "colab": {},
    "colab_type": "code",
    "collapsed": true,
    "id": "V4oCGZabfBJr",
    "jupyter": {
     "outputs_hidden": true
    }
   },
   "outputs": [],
   "source": [
    "model.summary()"
   ]
  },
  {
   "cell_type": "code",
   "execution_count": null,
   "metadata": {
    "colab": {},
    "colab_type": "code",
    "collapsed": true,
    "id": "hyMAwN0MfBJu",
    "jupyter": {
     "outputs_hidden": true
    }
   },
   "outputs": [],
   "source": [
    "def find_maximum_stimuli(layer_name, is_conv, filter_index, model, iterations=20, step=1., verbose=True):\n",
    "    \n",
    "    def image_values_to_rgb(x):\n",
    "        # нормализуем x: центрируем в 0 (np.mean(x_train2)), убедиться, что std=0.25 (np.std(x_train2))\n",
    "        # теперь х такой же как нормализованный вход нейронной сети\n",
    "        x = ### YOUR CODE HERE        \n",
    "\n",
    "        # преобразуем нормализованный вход обратно к RGB: x = (x_norm + 0.5) * 255\n",
    "        x = ### YOUR CODE HERE\n",
    "    \n",
    "        x = np.clip(x, 0, 255).astype('uint8')\n",
    "        return x\n",
    "\n",
    "    # placeholder для входного изображения\n",
    "    input_img = model.input\n",
    "    img_width, img_height = input_img.shape.as_list()[1:3]\n",
    "    \n",
    "    # находим выходы заданного слоя\n",
    "    layer_output = list(filter(lambda x: x.name == layer_name, model.layers))[0].output\n",
    "    \n",
    "    # определите функцию потерь, обратите внимание, что мы можем считать ее \n",
    "    # как для сверточного слоя, так и для полносвязного\n",
    "\n",
    "    loss = ### YOUR CODE HERE\n",
    "\n",
    "    # посчитайте градиент функции потерь по входному изображению с помощью  K.gradients\n",
    "\n",
    "    grads = ### YOUR CODE HERE\n",
    "\n",
    "    # normalization trick\n",
    "    grads = grads / (K.sqrt(K.sum(K.square(grads))) + 1e-10)\n",
    "\n",
    "    # считаем градиенты\n",
    "    iterate = K.function([input_img], [loss, grads])\n",
    "\n",
    "    # инициализируем входное ихображение: серое изображение со случайным шумом\n",
    "    input_img_data = np.random.random((1, img_width, img_height, 3))\n",
    "    input_img_data = (input_img_data - 0.5) * (0.1 if is_conv else 0.001)\n",
    "\n",
    "    # градиентный подъем\n",
    "    for i in range(iterations):\n",
    "        loss_value, grads_value = iterate([input_img_data])\n",
    "        input_img_data += grads_value * step\n",
    "        if verbose:\n",
    "            print('Current loss value:', loss_value)\n",
    "\n",
    "    # преобразуем изображение в RGB формат\n",
    "    img = image_values_to_rgb(input_img_data[0])\n",
    "    \n",
    "    return img, loss_value"
   ]
  },
  {
   "cell_type": "code",
   "execution_count": null,
   "metadata": {
    "colab": {},
    "colab_type": "code",
    "collapsed": true,
    "id": "1KwH686LfBJx",
    "jupyter": {
     "outputs_hidden": true
    }
   },
   "outputs": [],
   "source": [
    "# sample maximum stimuli\n",
    "def plot_filters_stimuli(layer_name, is_conv, model, iterations=20, step=1., verbose=False):\n",
    "    cols = 8\n",
    "    rows = 2\n",
    "    filter_index = 0\n",
    "    max_filter_index = list(filter(lambda x: x.name == layer_name, model.layers))[0].output.shape.as_list()[-1] - 1\n",
    "    fig = plt.figure(figsize=(2 * cols - 1, 3 * rows - 1))\n",
    "    for i in range(cols):\n",
    "        for j in range(rows):\n",
    "            if filter_index <= max_filter_index:\n",
    "                ax = fig.add_subplot(rows, cols, i * rows + j + 1)\n",
    "                ax.grid(False)\n",
    "                ax.axis('off')\n",
    "                loss = -1e20\n",
    "                while loss < 0 and filter_index <= max_filter_index:\n",
    "                    stimuli, loss = find_maximum_stimuli(layer_name, is_conv, filter_index, model,\n",
    "                                                         iterations, step, verbose=verbose)\n",
    "                    filter_index += 1\n",
    "                if loss > 0:\n",
    "                    ax.imshow(stimuli)\n",
    "                    ax.set_title(\"Filter #{}\".format(filter_index))\n",
    "    plt.show()"
   ]
  },
  {
   "cell_type": "code",
   "execution_count": null,
   "metadata": {
    "colab": {},
    "colab_type": "code",
    "collapsed": true,
    "id": "naj2ZdlNfBJ1",
    "jupyter": {
     "outputs_hidden": true
    }
   },
   "outputs": [],
   "source": [
    "# maximum stimuli for convolutional neurons\n",
    "conv_activation_layers = []\n",
    "for layer in model.layers:\n",
    "    if isinstance(layer, LeakyReLU):\n",
    "        prev_layer = layer._inbound_nodes[0].inbound_layers[0]\n",
    "        if isinstance(prev_layer, Conv2D):\n",
    "            conv_activation_layers.append(layer)\n",
    "\n",
    "for layer in conv_activation_layers:\n",
    "    print(layer.name)\n",
    "    plot_filters_stimuli(layer_name=layer.name, is_conv=True, model=model)"
   ]
  },
  {
   "cell_type": "code",
   "execution_count": null,
   "metadata": {
    "colab": {},
    "colab_type": "code",
    "collapsed": true,
    "id": "MnHJEEpxfBJ5",
    "jupyter": {
     "outputs_hidden": true
    }
   },
   "outputs": [],
   "source": [
    "# maximum stimuli for last dense layer\n",
    "last_dense_layer = list(filter(lambda x: isinstance(x, Dense), model.layers))[-1]\n",
    "plot_filters_stimuli(layer_name=last_dense_layer.name, is_conv=False, \n",
    "                     iterations=200, step=0.1, model=model)"
   ]
  }
 ],
 "metadata": {
  "accelerator": "GPU",
  "colab": {
   "name": "4_cnn.ipynb",
   "provenance": []
  },
  "kernelspec": {
   "display_name": "Python 3",
   "language": "python",
   "name": "python3"
  },
  "language_info": {
   "codemirror_mode": {
    "name": "ipython",
    "version": 3
   },
   "file_extension": ".py",
   "mimetype": "text/x-python",
   "name": "python",
   "nbconvert_exporter": "python",
   "pygments_lexer": "ipython3",
   "version": "3.7.3"
  }
 },
 "nbformat": 4,
 "nbformat_minor": 4
}
